{
 "cells": [
  {
   "cell_type": "markdown",
   "metadata": {},
   "source": [
    "# Wine Quality Project\n",
    "\n",
    "### Index\n",
    "1.  [Exploratory Data Analysis](#1)<br>\n",
    "2.  [Feature Selection](#2)<br>\n",
    "3.  [Scaling, Preprocessing, Train-Test Split](#3)<br>\n",
    "4.  [Model 1: Logistic Regression](#4)<br>\n",
    "5.  [Model 2: Decision Trees](#5)<br>\n",
    "6.  [Model 3: Random Forests](#6)<br>\n",
    "7.  [Model 4: Gradient Boosting](#7)<br>\n",
    "8.  [Model 5: k-Nearest Neighbors (k-NN)](#8)<br>\n",
    "9.  [Model Evaluation and Comparison](#9)<br>\n",
    "10. [Hyperparameter Tuning](#10)<br>\n",
    "11. [Final Model Selection](#11)<br>\n"
   ]
  },
  {
   "cell_type": "markdown",
   "metadata": {},
   "source": [
    "# 1: Exploratory Data Analysis<a id=\"1\"></a>"
   ]
  },
  {
   "cell_type": "markdown",
   "metadata": {},
   "source": [
    "### load and discover data"
   ]
  },
  {
   "cell_type": "code",
   "execution_count": 1,
   "metadata": {},
   "outputs": [],
   "source": [
    "import numpy as np\n",
    "import pandas as pd\n",
    "import matplotlib.pyplot as plt\n",
    "import seaborn as sns\n",
    "\n",
    "plt.style.use('ggplot')\n",
    "pd.set_option('display.max_columns', 200)\n",
    "\n",
    "from sklearn.preprocessing import StandardScaler"
   ]
  },
  {
   "cell_type": "code",
   "execution_count": 2,
   "metadata": {},
   "outputs": [
    {
     "data": {
      "text/html": [
       "<div>\n",
       "<style scoped>\n",
       "    .dataframe tbody tr th:only-of-type {\n",
       "        vertical-align: middle;\n",
       "    }\n",
       "\n",
       "    .dataframe tbody tr th {\n",
       "        vertical-align: top;\n",
       "    }\n",
       "\n",
       "    .dataframe thead th {\n",
       "        text-align: right;\n",
       "    }\n",
       "</style>\n",
       "<table border=\"1\" class=\"dataframe\">\n",
       "  <thead>\n",
       "    <tr style=\"text-align: right;\">\n",
       "      <th></th>\n",
       "      <th>fixed acidity</th>\n",
       "      <th>volatile acidity</th>\n",
       "      <th>citric acid</th>\n",
       "      <th>residual sugar</th>\n",
       "      <th>chlorides</th>\n",
       "      <th>free sulfur dioxide</th>\n",
       "      <th>total sulfur dioxide</th>\n",
       "      <th>density</th>\n",
       "      <th>pH</th>\n",
       "      <th>sulphates</th>\n",
       "      <th>alcohol</th>\n",
       "      <th>quality</th>\n",
       "    </tr>\n",
       "  </thead>\n",
       "  <tbody>\n",
       "    <tr>\n",
       "      <th>0</th>\n",
       "      <td>7.0</td>\n",
       "      <td>0.27</td>\n",
       "      <td>0.36</td>\n",
       "      <td>20.7</td>\n",
       "      <td>0.045</td>\n",
       "      <td>45.0</td>\n",
       "      <td>170.0</td>\n",
       "      <td>1.00100</td>\n",
       "      <td>3.00</td>\n",
       "      <td>0.45</td>\n",
       "      <td>8.8</td>\n",
       "      <td>6</td>\n",
       "    </tr>\n",
       "    <tr>\n",
       "      <th>1</th>\n",
       "      <td>6.3</td>\n",
       "      <td>0.30</td>\n",
       "      <td>0.34</td>\n",
       "      <td>1.6</td>\n",
       "      <td>0.049</td>\n",
       "      <td>14.0</td>\n",
       "      <td>132.0</td>\n",
       "      <td>0.99400</td>\n",
       "      <td>3.30</td>\n",
       "      <td>0.49</td>\n",
       "      <td>9.5</td>\n",
       "      <td>6</td>\n",
       "    </tr>\n",
       "    <tr>\n",
       "      <th>2</th>\n",
       "      <td>8.1</td>\n",
       "      <td>0.28</td>\n",
       "      <td>0.40</td>\n",
       "      <td>6.9</td>\n",
       "      <td>0.050</td>\n",
       "      <td>30.0</td>\n",
       "      <td>97.0</td>\n",
       "      <td>0.99510</td>\n",
       "      <td>3.26</td>\n",
       "      <td>0.44</td>\n",
       "      <td>10.1</td>\n",
       "      <td>6</td>\n",
       "    </tr>\n",
       "    <tr>\n",
       "      <th>3</th>\n",
       "      <td>7.2</td>\n",
       "      <td>0.23</td>\n",
       "      <td>0.32</td>\n",
       "      <td>8.5</td>\n",
       "      <td>0.058</td>\n",
       "      <td>47.0</td>\n",
       "      <td>186.0</td>\n",
       "      <td>0.99560</td>\n",
       "      <td>3.19</td>\n",
       "      <td>0.40</td>\n",
       "      <td>9.9</td>\n",
       "      <td>6</td>\n",
       "    </tr>\n",
       "    <tr>\n",
       "      <th>4</th>\n",
       "      <td>7.2</td>\n",
       "      <td>0.23</td>\n",
       "      <td>0.32</td>\n",
       "      <td>8.5</td>\n",
       "      <td>0.058</td>\n",
       "      <td>47.0</td>\n",
       "      <td>186.0</td>\n",
       "      <td>0.99560</td>\n",
       "      <td>3.19</td>\n",
       "      <td>0.40</td>\n",
       "      <td>9.9</td>\n",
       "      <td>6</td>\n",
       "    </tr>\n",
       "    <tr>\n",
       "      <th>...</th>\n",
       "      <td>...</td>\n",
       "      <td>...</td>\n",
       "      <td>...</td>\n",
       "      <td>...</td>\n",
       "      <td>...</td>\n",
       "      <td>...</td>\n",
       "      <td>...</td>\n",
       "      <td>...</td>\n",
       "      <td>...</td>\n",
       "      <td>...</td>\n",
       "      <td>...</td>\n",
       "      <td>...</td>\n",
       "    </tr>\n",
       "    <tr>\n",
       "      <th>4893</th>\n",
       "      <td>6.2</td>\n",
       "      <td>0.21</td>\n",
       "      <td>0.29</td>\n",
       "      <td>1.6</td>\n",
       "      <td>0.039</td>\n",
       "      <td>24.0</td>\n",
       "      <td>92.0</td>\n",
       "      <td>0.99114</td>\n",
       "      <td>3.27</td>\n",
       "      <td>0.50</td>\n",
       "      <td>11.2</td>\n",
       "      <td>6</td>\n",
       "    </tr>\n",
       "    <tr>\n",
       "      <th>4894</th>\n",
       "      <td>6.6</td>\n",
       "      <td>0.32</td>\n",
       "      <td>0.36</td>\n",
       "      <td>8.0</td>\n",
       "      <td>0.047</td>\n",
       "      <td>57.0</td>\n",
       "      <td>168.0</td>\n",
       "      <td>0.99490</td>\n",
       "      <td>3.15</td>\n",
       "      <td>0.46</td>\n",
       "      <td>9.6</td>\n",
       "      <td>5</td>\n",
       "    </tr>\n",
       "    <tr>\n",
       "      <th>4895</th>\n",
       "      <td>6.5</td>\n",
       "      <td>0.24</td>\n",
       "      <td>0.19</td>\n",
       "      <td>1.2</td>\n",
       "      <td>0.041</td>\n",
       "      <td>30.0</td>\n",
       "      <td>111.0</td>\n",
       "      <td>0.99254</td>\n",
       "      <td>2.99</td>\n",
       "      <td>0.46</td>\n",
       "      <td>9.4</td>\n",
       "      <td>6</td>\n",
       "    </tr>\n",
       "    <tr>\n",
       "      <th>4896</th>\n",
       "      <td>5.5</td>\n",
       "      <td>0.29</td>\n",
       "      <td>0.30</td>\n",
       "      <td>1.1</td>\n",
       "      <td>0.022</td>\n",
       "      <td>20.0</td>\n",
       "      <td>110.0</td>\n",
       "      <td>0.98869</td>\n",
       "      <td>3.34</td>\n",
       "      <td>0.38</td>\n",
       "      <td>12.8</td>\n",
       "      <td>7</td>\n",
       "    </tr>\n",
       "    <tr>\n",
       "      <th>4897</th>\n",
       "      <td>6.0</td>\n",
       "      <td>0.21</td>\n",
       "      <td>0.38</td>\n",
       "      <td>0.8</td>\n",
       "      <td>0.020</td>\n",
       "      <td>22.0</td>\n",
       "      <td>98.0</td>\n",
       "      <td>0.98941</td>\n",
       "      <td>3.26</td>\n",
       "      <td>0.32</td>\n",
       "      <td>11.8</td>\n",
       "      <td>6</td>\n",
       "    </tr>\n",
       "  </tbody>\n",
       "</table>\n",
       "<p>4898 rows × 12 columns</p>\n",
       "</div>"
      ],
      "text/plain": [
       "      fixed acidity  volatile acidity  citric acid  residual sugar  chlorides  \\\n",
       "0               7.0              0.27         0.36            20.7      0.045   \n",
       "1               6.3              0.30         0.34             1.6      0.049   \n",
       "2               8.1              0.28         0.40             6.9      0.050   \n",
       "3               7.2              0.23         0.32             8.5      0.058   \n",
       "4               7.2              0.23         0.32             8.5      0.058   \n",
       "...             ...               ...          ...             ...        ...   \n",
       "4893            6.2              0.21         0.29             1.6      0.039   \n",
       "4894            6.6              0.32         0.36             8.0      0.047   \n",
       "4895            6.5              0.24         0.19             1.2      0.041   \n",
       "4896            5.5              0.29         0.30             1.1      0.022   \n",
       "4897            6.0              0.21         0.38             0.8      0.020   \n",
       "\n",
       "      free sulfur dioxide  total sulfur dioxide  density    pH  sulphates  \\\n",
       "0                    45.0                 170.0  1.00100  3.00       0.45   \n",
       "1                    14.0                 132.0  0.99400  3.30       0.49   \n",
       "2                    30.0                  97.0  0.99510  3.26       0.44   \n",
       "3                    47.0                 186.0  0.99560  3.19       0.40   \n",
       "4                    47.0                 186.0  0.99560  3.19       0.40   \n",
       "...                   ...                   ...      ...   ...        ...   \n",
       "4893                 24.0                  92.0  0.99114  3.27       0.50   \n",
       "4894                 57.0                 168.0  0.99490  3.15       0.46   \n",
       "4895                 30.0                 111.0  0.99254  2.99       0.46   \n",
       "4896                 20.0                 110.0  0.98869  3.34       0.38   \n",
       "4897                 22.0                  98.0  0.98941  3.26       0.32   \n",
       "\n",
       "      alcohol  quality  \n",
       "0         8.8        6  \n",
       "1         9.5        6  \n",
       "2        10.1        6  \n",
       "3         9.9        6  \n",
       "4         9.9        6  \n",
       "...       ...      ...  \n",
       "4893     11.2        6  \n",
       "4894      9.6        5  \n",
       "4895      9.4        6  \n",
       "4896     12.8        7  \n",
       "4897     11.8        6  \n",
       "\n",
       "[4898 rows x 12 columns]"
      ]
     },
     "execution_count": 2,
     "metadata": {},
     "output_type": "execute_result"
    }
   ],
   "source": [
    "df_white = pd.read_csv('winequality-white.csv', sep=';', header=0).copy()\n",
    "df_white"
   ]
  },
  {
   "cell_type": "code",
   "execution_count": 3,
   "metadata": {},
   "outputs": [
    {
     "data": {
      "text/plain": [
       "(4898, 12)"
      ]
     },
     "execution_count": 3,
     "metadata": {},
     "output_type": "execute_result"
    }
   ],
   "source": [
    "df_white.shape"
   ]
  },
  {
   "cell_type": "code",
   "execution_count": 4,
   "metadata": {},
   "outputs": [
    {
     "name": "stdout",
     "output_type": "stream",
     "text": [
      "<class 'pandas.core.frame.DataFrame'>\n",
      "RangeIndex: 4898 entries, 0 to 4897\n",
      "Data columns (total 12 columns):\n",
      " #   Column                Non-Null Count  Dtype  \n",
      "---  ------                --------------  -----  \n",
      " 0   fixed acidity         4898 non-null   float64\n",
      " 1   volatile acidity      4898 non-null   float64\n",
      " 2   citric acid           4898 non-null   float64\n",
      " 3   residual sugar        4898 non-null   float64\n",
      " 4   chlorides             4898 non-null   float64\n",
      " 5   free sulfur dioxide   4898 non-null   float64\n",
      " 6   total sulfur dioxide  4898 non-null   float64\n",
      " 7   density               4898 non-null   float64\n",
      " 8   pH                    4898 non-null   float64\n",
      " 9   sulphates             4898 non-null   float64\n",
      " 10  alcohol               4898 non-null   float64\n",
      " 11  quality               4898 non-null   int64  \n",
      "dtypes: float64(11), int64(1)\n",
      "memory usage: 459.3 KB\n"
     ]
    }
   ],
   "source": [
    "df_white.info()"
   ]
  },
  {
   "cell_type": "code",
   "execution_count": 5,
   "metadata": {},
   "outputs": [
    {
     "data": {
      "text/plain": [
       "Index(['fixed acidity', 'volatile acidity', 'citric acid', 'residual sugar',\n",
       "       'chlorides', 'free sulfur dioxide', 'total sulfur dioxide', 'density',\n",
       "       'pH', 'sulphates', 'alcohol', 'quality'],\n",
       "      dtype='object')"
      ]
     },
     "execution_count": 5,
     "metadata": {},
     "output_type": "execute_result"
    }
   ],
   "source": [
    "df_white.columns"
   ]
  },
  {
   "cell_type": "code",
   "execution_count": 6,
   "metadata": {},
   "outputs": [],
   "source": [
    "# Rename columns\n",
    "\n",
    "df_white.rename(columns={\n",
    "    'fixed acidity': 'fixed_acidity',\n",
    "    'volatile acidity': 'volatile_acidity',\n",
    "    'citric acid': 'citric_acid',\n",
    "    'residual sugar': 'residual_sugar',\n",
    "    'free sulfur dioxide': 'free_sulfur_dioxide',\n",
    "    'total sulfur dioxide': 'total_sulfur_dioxide'\n",
    "}, inplace=True)"
   ]
  },
  {
   "cell_type": "code",
   "execution_count": 7,
   "metadata": {},
   "outputs": [
    {
     "data": {
      "text/plain": [
       "fixed_acidity           0\n",
       "volatile_acidity        0\n",
       "citric_acid             0\n",
       "residual_sugar          0\n",
       "chlorides               0\n",
       "free_sulfur_dioxide     0\n",
       "total_sulfur_dioxide    0\n",
       "density                 0\n",
       "pH                      0\n",
       "sulphates               0\n",
       "alcohol                 0\n",
       "quality                 0\n",
       "dtype: int64"
      ]
     },
     "execution_count": 7,
     "metadata": {},
     "output_type": "execute_result"
    }
   ],
   "source": [
    "df_white.isna().sum()"
   ]
  },
  {
   "cell_type": "code",
   "execution_count": 8,
   "metadata": {},
   "outputs": [
    {
     "data": {
      "text/plain": [
       "937"
      ]
     },
     "execution_count": 8,
     "metadata": {},
     "output_type": "execute_result"
    }
   ],
   "source": [
    "df_white.duplicated().sum()"
   ]
  },
  {
   "cell_type": "code",
   "execution_count": 9,
   "metadata": {},
   "outputs": [
    {
     "data": {
      "text/html": [
       "<div>\n",
       "<style scoped>\n",
       "    .dataframe tbody tr th:only-of-type {\n",
       "        vertical-align: middle;\n",
       "    }\n",
       "\n",
       "    .dataframe tbody tr th {\n",
       "        vertical-align: top;\n",
       "    }\n",
       "\n",
       "    .dataframe thead th {\n",
       "        text-align: right;\n",
       "    }\n",
       "</style>\n",
       "<table border=\"1\" class=\"dataframe\">\n",
       "  <thead>\n",
       "    <tr style=\"text-align: right;\">\n",
       "      <th></th>\n",
       "      <th>fixed_acidity</th>\n",
       "      <th>volatile_acidity</th>\n",
       "      <th>citric_acid</th>\n",
       "      <th>residual_sugar</th>\n",
       "      <th>chlorides</th>\n",
       "      <th>free_sulfur_dioxide</th>\n",
       "      <th>total_sulfur_dioxide</th>\n",
       "      <th>density</th>\n",
       "      <th>pH</th>\n",
       "      <th>sulphates</th>\n",
       "      <th>alcohol</th>\n",
       "      <th>quality</th>\n",
       "    </tr>\n",
       "  </thead>\n",
       "  <tbody>\n",
       "    <tr>\n",
       "      <th>4</th>\n",
       "      <td>7.2</td>\n",
       "      <td>0.23</td>\n",
       "      <td>0.32</td>\n",
       "      <td>8.5</td>\n",
       "      <td>0.058</td>\n",
       "      <td>47.0</td>\n",
       "      <td>186.0</td>\n",
       "      <td>0.99560</td>\n",
       "      <td>3.19</td>\n",
       "      <td>0.40</td>\n",
       "      <td>9.900000</td>\n",
       "      <td>6</td>\n",
       "    </tr>\n",
       "    <tr>\n",
       "      <th>5</th>\n",
       "      <td>8.1</td>\n",
       "      <td>0.28</td>\n",
       "      <td>0.40</td>\n",
       "      <td>6.9</td>\n",
       "      <td>0.050</td>\n",
       "      <td>30.0</td>\n",
       "      <td>97.0</td>\n",
       "      <td>0.99510</td>\n",
       "      <td>3.26</td>\n",
       "      <td>0.44</td>\n",
       "      <td>10.100000</td>\n",
       "      <td>6</td>\n",
       "    </tr>\n",
       "    <tr>\n",
       "      <th>7</th>\n",
       "      <td>7.0</td>\n",
       "      <td>0.27</td>\n",
       "      <td>0.36</td>\n",
       "      <td>20.7</td>\n",
       "      <td>0.045</td>\n",
       "      <td>45.0</td>\n",
       "      <td>170.0</td>\n",
       "      <td>1.00100</td>\n",
       "      <td>3.00</td>\n",
       "      <td>0.45</td>\n",
       "      <td>8.800000</td>\n",
       "      <td>6</td>\n",
       "    </tr>\n",
       "    <tr>\n",
       "      <th>8</th>\n",
       "      <td>6.3</td>\n",
       "      <td>0.30</td>\n",
       "      <td>0.34</td>\n",
       "      <td>1.6</td>\n",
       "      <td>0.049</td>\n",
       "      <td>14.0</td>\n",
       "      <td>132.0</td>\n",
       "      <td>0.99400</td>\n",
       "      <td>3.30</td>\n",
       "      <td>0.49</td>\n",
       "      <td>9.500000</td>\n",
       "      <td>6</td>\n",
       "    </tr>\n",
       "    <tr>\n",
       "      <th>20</th>\n",
       "      <td>6.2</td>\n",
       "      <td>0.66</td>\n",
       "      <td>0.48</td>\n",
       "      <td>1.2</td>\n",
       "      <td>0.029</td>\n",
       "      <td>29.0</td>\n",
       "      <td>75.0</td>\n",
       "      <td>0.98920</td>\n",
       "      <td>3.33</td>\n",
       "      <td>0.39</td>\n",
       "      <td>12.800000</td>\n",
       "      <td>8</td>\n",
       "    </tr>\n",
       "    <tr>\n",
       "      <th>...</th>\n",
       "      <td>...</td>\n",
       "      <td>...</td>\n",
       "      <td>...</td>\n",
       "      <td>...</td>\n",
       "      <td>...</td>\n",
       "      <td>...</td>\n",
       "      <td>...</td>\n",
       "      <td>...</td>\n",
       "      <td>...</td>\n",
       "      <td>...</td>\n",
       "      <td>...</td>\n",
       "      <td>...</td>\n",
       "    </tr>\n",
       "    <tr>\n",
       "      <th>4828</th>\n",
       "      <td>6.4</td>\n",
       "      <td>0.23</td>\n",
       "      <td>0.35</td>\n",
       "      <td>10.3</td>\n",
       "      <td>0.042</td>\n",
       "      <td>54.0</td>\n",
       "      <td>140.0</td>\n",
       "      <td>0.99670</td>\n",
       "      <td>3.23</td>\n",
       "      <td>0.47</td>\n",
       "      <td>9.200000</td>\n",
       "      <td>5</td>\n",
       "    </tr>\n",
       "    <tr>\n",
       "      <th>4850</th>\n",
       "      <td>7.0</td>\n",
       "      <td>0.36</td>\n",
       "      <td>0.35</td>\n",
       "      <td>2.5</td>\n",
       "      <td>0.048</td>\n",
       "      <td>67.0</td>\n",
       "      <td>161.0</td>\n",
       "      <td>0.99146</td>\n",
       "      <td>3.05</td>\n",
       "      <td>0.56</td>\n",
       "      <td>11.100000</td>\n",
       "      <td>6</td>\n",
       "    </tr>\n",
       "    <tr>\n",
       "      <th>4851</th>\n",
       "      <td>6.4</td>\n",
       "      <td>0.33</td>\n",
       "      <td>0.44</td>\n",
       "      <td>8.9</td>\n",
       "      <td>0.055</td>\n",
       "      <td>52.0</td>\n",
       "      <td>164.0</td>\n",
       "      <td>0.99488</td>\n",
       "      <td>3.10</td>\n",
       "      <td>0.48</td>\n",
       "      <td>9.600000</td>\n",
       "      <td>5</td>\n",
       "    </tr>\n",
       "    <tr>\n",
       "      <th>4856</th>\n",
       "      <td>7.1</td>\n",
       "      <td>0.23</td>\n",
       "      <td>0.39</td>\n",
       "      <td>13.7</td>\n",
       "      <td>0.058</td>\n",
       "      <td>26.0</td>\n",
       "      <td>172.0</td>\n",
       "      <td>0.99755</td>\n",
       "      <td>2.90</td>\n",
       "      <td>0.46</td>\n",
       "      <td>9.000000</td>\n",
       "      <td>6</td>\n",
       "    </tr>\n",
       "    <tr>\n",
       "      <th>4880</th>\n",
       "      <td>6.6</td>\n",
       "      <td>0.34</td>\n",
       "      <td>0.40</td>\n",
       "      <td>8.1</td>\n",
       "      <td>0.046</td>\n",
       "      <td>68.0</td>\n",
       "      <td>170.0</td>\n",
       "      <td>0.99494</td>\n",
       "      <td>3.15</td>\n",
       "      <td>0.50</td>\n",
       "      <td>9.533333</td>\n",
       "      <td>6</td>\n",
       "    </tr>\n",
       "  </tbody>\n",
       "</table>\n",
       "<p>937 rows × 12 columns</p>\n",
       "</div>"
      ],
      "text/plain": [
       "      fixed_acidity  volatile_acidity  citric_acid  residual_sugar  chlorides  \\\n",
       "4               7.2              0.23         0.32             8.5      0.058   \n",
       "5               8.1              0.28         0.40             6.9      0.050   \n",
       "7               7.0              0.27         0.36            20.7      0.045   \n",
       "8               6.3              0.30         0.34             1.6      0.049   \n",
       "20              6.2              0.66         0.48             1.2      0.029   \n",
       "...             ...               ...          ...             ...        ...   \n",
       "4828            6.4              0.23         0.35            10.3      0.042   \n",
       "4850            7.0              0.36         0.35             2.5      0.048   \n",
       "4851            6.4              0.33         0.44             8.9      0.055   \n",
       "4856            7.1              0.23         0.39            13.7      0.058   \n",
       "4880            6.6              0.34         0.40             8.1      0.046   \n",
       "\n",
       "      free_sulfur_dioxide  total_sulfur_dioxide  density    pH  sulphates  \\\n",
       "4                    47.0                 186.0  0.99560  3.19       0.40   \n",
       "5                    30.0                  97.0  0.99510  3.26       0.44   \n",
       "7                    45.0                 170.0  1.00100  3.00       0.45   \n",
       "8                    14.0                 132.0  0.99400  3.30       0.49   \n",
       "20                   29.0                  75.0  0.98920  3.33       0.39   \n",
       "...                   ...                   ...      ...   ...        ...   \n",
       "4828                 54.0                 140.0  0.99670  3.23       0.47   \n",
       "4850                 67.0                 161.0  0.99146  3.05       0.56   \n",
       "4851                 52.0                 164.0  0.99488  3.10       0.48   \n",
       "4856                 26.0                 172.0  0.99755  2.90       0.46   \n",
       "4880                 68.0                 170.0  0.99494  3.15       0.50   \n",
       "\n",
       "        alcohol  quality  \n",
       "4      9.900000        6  \n",
       "5     10.100000        6  \n",
       "7      8.800000        6  \n",
       "8      9.500000        6  \n",
       "20    12.800000        8  \n",
       "...         ...      ...  \n",
       "4828   9.200000        5  \n",
       "4850  11.100000        6  \n",
       "4851   9.600000        5  \n",
       "4856   9.000000        6  \n",
       "4880   9.533333        6  \n",
       "\n",
       "[937 rows x 12 columns]"
      ]
     },
     "execution_count": 9,
     "metadata": {},
     "output_type": "execute_result"
    }
   ],
   "source": [
    "# view duplicates \n",
    "\n",
    "duplicates = df_white.duplicated()\n",
    "\n",
    "df_filtered = df_white[duplicates]\n",
    "df_filtered"
   ]
  },
  {
   "cell_type": "code",
   "execution_count": 10,
   "metadata": {},
   "outputs": [],
   "source": [
    "df_white = df_white.drop_duplicates().reset_index(drop=True)"
   ]
  },
  {
   "cell_type": "code",
   "execution_count": 11,
   "metadata": {},
   "outputs": [
    {
     "data": {
      "text/html": [
       "<div>\n",
       "<style scoped>\n",
       "    .dataframe tbody tr th:only-of-type {\n",
       "        vertical-align: middle;\n",
       "    }\n",
       "\n",
       "    .dataframe tbody tr th {\n",
       "        vertical-align: top;\n",
       "    }\n",
       "\n",
       "    .dataframe thead th {\n",
       "        text-align: right;\n",
       "    }\n",
       "</style>\n",
       "<table border=\"1\" class=\"dataframe\">\n",
       "  <thead>\n",
       "    <tr style=\"text-align: right;\">\n",
       "      <th></th>\n",
       "      <th>count</th>\n",
       "      <th>mean</th>\n",
       "      <th>std</th>\n",
       "      <th>min</th>\n",
       "      <th>25%</th>\n",
       "      <th>50%</th>\n",
       "      <th>75%</th>\n",
       "      <th>max</th>\n",
       "    </tr>\n",
       "  </thead>\n",
       "  <tbody>\n",
       "    <tr>\n",
       "      <th>fixed_acidity</th>\n",
       "      <td>3961.0</td>\n",
       "      <td>6.839346</td>\n",
       "      <td>0.866860</td>\n",
       "      <td>3.80000</td>\n",
       "      <td>6.30000</td>\n",
       "      <td>6.8000</td>\n",
       "      <td>7.30000</td>\n",
       "      <td>14.20000</td>\n",
       "    </tr>\n",
       "    <tr>\n",
       "      <th>volatile_acidity</th>\n",
       "      <td>3961.0</td>\n",
       "      <td>0.280538</td>\n",
       "      <td>0.103437</td>\n",
       "      <td>0.08000</td>\n",
       "      <td>0.21000</td>\n",
       "      <td>0.2600</td>\n",
       "      <td>0.33000</td>\n",
       "      <td>1.10000</td>\n",
       "    </tr>\n",
       "    <tr>\n",
       "      <th>citric_acid</th>\n",
       "      <td>3961.0</td>\n",
       "      <td>0.334332</td>\n",
       "      <td>0.122446</td>\n",
       "      <td>0.00000</td>\n",
       "      <td>0.27000</td>\n",
       "      <td>0.3200</td>\n",
       "      <td>0.39000</td>\n",
       "      <td>1.66000</td>\n",
       "    </tr>\n",
       "    <tr>\n",
       "      <th>residual_sugar</th>\n",
       "      <td>3961.0</td>\n",
       "      <td>5.914819</td>\n",
       "      <td>4.861646</td>\n",
       "      <td>0.60000</td>\n",
       "      <td>1.60000</td>\n",
       "      <td>4.7000</td>\n",
       "      <td>8.90000</td>\n",
       "      <td>65.80000</td>\n",
       "    </tr>\n",
       "    <tr>\n",
       "      <th>chlorides</th>\n",
       "      <td>3961.0</td>\n",
       "      <td>0.045905</td>\n",
       "      <td>0.023103</td>\n",
       "      <td>0.00900</td>\n",
       "      <td>0.03500</td>\n",
       "      <td>0.0420</td>\n",
       "      <td>0.05000</td>\n",
       "      <td>0.34600</td>\n",
       "    </tr>\n",
       "    <tr>\n",
       "      <th>free_sulfur_dioxide</th>\n",
       "      <td>3961.0</td>\n",
       "      <td>34.889169</td>\n",
       "      <td>17.210021</td>\n",
       "      <td>2.00000</td>\n",
       "      <td>23.00000</td>\n",
       "      <td>33.0000</td>\n",
       "      <td>45.00000</td>\n",
       "      <td>289.00000</td>\n",
       "    </tr>\n",
       "    <tr>\n",
       "      <th>total_sulfur_dioxide</th>\n",
       "      <td>3961.0</td>\n",
       "      <td>137.193512</td>\n",
       "      <td>43.129065</td>\n",
       "      <td>9.00000</td>\n",
       "      <td>106.00000</td>\n",
       "      <td>133.0000</td>\n",
       "      <td>166.00000</td>\n",
       "      <td>440.00000</td>\n",
       "    </tr>\n",
       "    <tr>\n",
       "      <th>density</th>\n",
       "      <td>3961.0</td>\n",
       "      <td>0.993790</td>\n",
       "      <td>0.002905</td>\n",
       "      <td>0.98711</td>\n",
       "      <td>0.99162</td>\n",
       "      <td>0.9935</td>\n",
       "      <td>0.99571</td>\n",
       "      <td>1.03898</td>\n",
       "    </tr>\n",
       "    <tr>\n",
       "      <th>pH</th>\n",
       "      <td>3961.0</td>\n",
       "      <td>3.195458</td>\n",
       "      <td>0.151546</td>\n",
       "      <td>2.72000</td>\n",
       "      <td>3.09000</td>\n",
       "      <td>3.1800</td>\n",
       "      <td>3.29000</td>\n",
       "      <td>3.82000</td>\n",
       "    </tr>\n",
       "    <tr>\n",
       "      <th>sulphates</th>\n",
       "      <td>3961.0</td>\n",
       "      <td>0.490351</td>\n",
       "      <td>0.113523</td>\n",
       "      <td>0.22000</td>\n",
       "      <td>0.41000</td>\n",
       "      <td>0.4800</td>\n",
       "      <td>0.55000</td>\n",
       "      <td>1.08000</td>\n",
       "    </tr>\n",
       "    <tr>\n",
       "      <th>alcohol</th>\n",
       "      <td>3961.0</td>\n",
       "      <td>10.589358</td>\n",
       "      <td>1.217076</td>\n",
       "      <td>8.00000</td>\n",
       "      <td>9.50000</td>\n",
       "      <td>10.4000</td>\n",
       "      <td>11.40000</td>\n",
       "      <td>14.20000</td>\n",
       "    </tr>\n",
       "    <tr>\n",
       "      <th>quality</th>\n",
       "      <td>3961.0</td>\n",
       "      <td>5.854835</td>\n",
       "      <td>0.890683</td>\n",
       "      <td>3.00000</td>\n",
       "      <td>5.00000</td>\n",
       "      <td>6.0000</td>\n",
       "      <td>6.00000</td>\n",
       "      <td>9.00000</td>\n",
       "    </tr>\n",
       "  </tbody>\n",
       "</table>\n",
       "</div>"
      ],
      "text/plain": [
       "                       count        mean        std      min        25%  \\\n",
       "fixed_acidity         3961.0    6.839346   0.866860  3.80000    6.30000   \n",
       "volatile_acidity      3961.0    0.280538   0.103437  0.08000    0.21000   \n",
       "citric_acid           3961.0    0.334332   0.122446  0.00000    0.27000   \n",
       "residual_sugar        3961.0    5.914819   4.861646  0.60000    1.60000   \n",
       "chlorides             3961.0    0.045905   0.023103  0.00900    0.03500   \n",
       "free_sulfur_dioxide   3961.0   34.889169  17.210021  2.00000   23.00000   \n",
       "total_sulfur_dioxide  3961.0  137.193512  43.129065  9.00000  106.00000   \n",
       "density               3961.0    0.993790   0.002905  0.98711    0.99162   \n",
       "pH                    3961.0    3.195458   0.151546  2.72000    3.09000   \n",
       "sulphates             3961.0    0.490351   0.113523  0.22000    0.41000   \n",
       "alcohol               3961.0   10.589358   1.217076  8.00000    9.50000   \n",
       "quality               3961.0    5.854835   0.890683  3.00000    5.00000   \n",
       "\n",
       "                           50%        75%        max  \n",
       "fixed_acidity           6.8000    7.30000   14.20000  \n",
       "volatile_acidity        0.2600    0.33000    1.10000  \n",
       "citric_acid             0.3200    0.39000    1.66000  \n",
       "residual_sugar          4.7000    8.90000   65.80000  \n",
       "chlorides               0.0420    0.05000    0.34600  \n",
       "free_sulfur_dioxide    33.0000   45.00000  289.00000  \n",
       "total_sulfur_dioxide  133.0000  166.00000  440.00000  \n",
       "density                 0.9935    0.99571    1.03898  \n",
       "pH                      3.1800    3.29000    3.82000  \n",
       "sulphates               0.4800    0.55000    1.08000  \n",
       "alcohol                10.4000   11.40000   14.20000  \n",
       "quality                 6.0000    6.00000    9.00000  "
      ]
     },
     "execution_count": 11,
     "metadata": {},
     "output_type": "execute_result"
    }
   ],
   "source": [
    "df_white.describe().T"
   ]
  },
  {
   "cell_type": "code",
   "execution_count": 12,
   "metadata": {},
   "outputs": [
    {
     "data": {
      "text/plain": [
       "quality\n",
       "6    1788\n",
       "5    1175\n",
       "7     689\n",
       "4     153\n",
       "8     131\n",
       "3      20\n",
       "9       5\n",
       "Name: count, dtype: int64"
      ]
     },
     "execution_count": 12,
     "metadata": {},
     "output_type": "execute_result"
    }
   ],
   "source": [
    "df_white['quality'].value_counts()"
   ]
  },
  {
   "cell_type": "markdown",
   "metadata": {},
   "source": [
    "## check outliers and data distribution"
   ]
  },
  {
   "cell_type": "code",
   "execution_count": 13,
   "metadata": {},
   "outputs": [],
   "source": [
    "# List of features\n",
    "\n",
    "features = [\n",
    "    'fixed_acidity', 'volatile_acidity', 'citric_acid', 'residual_sugar', \n",
    "    'chlorides', 'free_sulfur_dioxide', 'total_sulfur_dioxide', 'density', \n",
    "    'pH', 'sulphates', 'alcohol', 'quality'\n",
    "]"
   ]
  },
  {
   "cell_type": "code",
   "execution_count": 14,
   "metadata": {},
   "outputs": [
    {
     "data": {
      "image/png": "[encoded data removed]",
      "text/plain": [
       "<Figure size 1500x800 with 12 Axes>"
      ]
     },
     "metadata": {},
     "output_type": "display_data"
    }
   ],
   "source": [
    "# Create boxplots for each feature\n",
    "\n",
    "plt.figure(figsize=(15, 8))\n",
    "\n",
    "for i, feature in enumerate(features, 1):\n",
    "    plt.subplot(3, 4, i)  # 3 rows, 4 columns, plot by index\n",
    "    sns.boxplot(x=df_white[feature], color='lightcoral')\n",
    "    \n",
    "plt.subplots_adjust(hspace=0.3, wspace=0.3)\n",
    "\n",
    "plt.show()"
   ]
  },
  {
   "cell_type": "markdown",
   "metadata": {},
   "source": [
    "* The dataset includes samples that have been rated by wine experts, so we aim to retain as many rows as possible.\n",
    "* However, some features have extreme outliers, which can negatively impact the performance of the model.\n",
    "* we will not touch outliers on this step since we will review them in detail after feature selection. "
   ]
  },
  {
   "cell_type": "markdown",
   "metadata": {},
   "source": [
    "# 2: Feature Selection<a id=\"2\"></a>"
   ]
  },
  {
   "cell_type": "code",
   "execution_count": 15,
   "metadata": {},
   "outputs": [
    {
     "data": {
      "image/png": "[encoded data removed]",
      "text/plain": [
       "<Figure size 1500x800 with 2 Axes>"
      ]
     },
     "metadata": {},
     "output_type": "display_data"
    }
   ],
   "source": [
    "# create a heatmap to check relation between quality and other features\n",
    "\n",
    "# Compute the correlation matrix\n",
    "\n",
    "corr = df_white.corr(numeric_only=True)\n",
    "\n",
    "# Create a mask for the upper triangle\n",
    "\n",
    "mask = np.triu(np.ones_like(corr, dtype=bool), k=1)\n",
    "\n",
    "# Set the figure size and plot the heatmap with the mask\n",
    "\n",
    "sns.set_theme(rc={'figure.figsize': (15, 8)})\n",
    "ax = sns.heatmap(corr, mask=mask, annot=True, vmin=-1, vmax=1, fmt=\".2f\", cmap=sns.diverging_palette(20, 220, n=200), square=True)\n",
    "\n",
    "# Customize the tick labels and title\n",
    "\n",
    "ax.set_xticklabels(ax.get_xticklabels(), rotation=45, horizontalalignment='right')\n",
    "plt.title('Correlation Matrix of Quality and Other Metrics for White Wines', fontsize=14)\n",
    "plt.xticks(fontsize=12)\n",
    "plt.yticks(fontsize=12)\n",
    "\n",
    "plt.show()"
   ]
  },
  {
   "cell_type": "markdown",
   "metadata": {},
   "source": [
    "* The features showing the highest correlation with wine quality are:\n",
    "    * alcohol: 0.46 \n",
    "    * density: -0.34\n",
    "    * chlorides: -0.22\n",
    "    * volatile acidity: -0.19\n",
    "    * total sulfur dioxide: -0.18\n",
    "    \n",
    "* Since alcohol and density are highly correlated with each other(-0.76), we will retain alcohol as it has a stronger individual correlation with quality."
   ]
  },
  {
   "cell_type": "code",
   "execution_count": 16,
   "metadata": {},
   "outputs": [],
   "source": [
    "# List of features\n",
    "\n",
    "features = ['alcohol', 'chlorides', 'volatile_acidity',  'total_sulfur_dioxide', 'quality']"
   ]
  },
  {
   "cell_type": "code",
   "execution_count": 17,
   "metadata": {},
   "outputs": [],
   "source": [
    "df_white_ml = df_white[features].reset_index(drop=True)"
   ]
  },
  {
   "cell_type": "code",
   "execution_count": 18,
   "metadata": {},
   "outputs": [
    {
     "data": {
      "text/html": [
       "<div>\n",
       "<style scoped>\n",
       "    .dataframe tbody tr th:only-of-type {\n",
       "        vertical-align: middle;\n",
       "    }\n",
       "\n",
       "    .dataframe tbody tr th {\n",
       "        vertical-align: top;\n",
       "    }\n",
       "\n",
       "    .dataframe thead th {\n",
       "        text-align: right;\n",
       "    }\n",
       "</style>\n",
       "<table border=\"1\" class=\"dataframe\">\n",
       "  <thead>\n",
       "    <tr style=\"text-align: right;\">\n",
       "      <th></th>\n",
       "      <th>alcohol</th>\n",
       "      <th>chlorides</th>\n",
       "      <th>volatile_acidity</th>\n",
       "      <th>total_sulfur_dioxide</th>\n",
       "      <th>quality</th>\n",
       "    </tr>\n",
       "  </thead>\n",
       "  <tbody>\n",
       "    <tr>\n",
       "      <th>count</th>\n",
       "      <td>3961.000000</td>\n",
       "      <td>3961.000000</td>\n",
       "      <td>3961.000000</td>\n",
       "      <td>3961.000000</td>\n",
       "      <td>3961.000000</td>\n",
       "    </tr>\n",
       "    <tr>\n",
       "      <th>mean</th>\n",
       "      <td>10.589358</td>\n",
       "      <td>0.045905</td>\n",
       "      <td>0.280538</td>\n",
       "      <td>137.193512</td>\n",
       "      <td>5.854835</td>\n",
       "    </tr>\n",
       "    <tr>\n",
       "      <th>std</th>\n",
       "      <td>1.217076</td>\n",
       "      <td>0.023103</td>\n",
       "      <td>0.103437</td>\n",
       "      <td>43.129065</td>\n",
       "      <td>0.890683</td>\n",
       "    </tr>\n",
       "    <tr>\n",
       "      <th>min</th>\n",
       "      <td>8.000000</td>\n",
       "      <td>0.009000</td>\n",
       "      <td>0.080000</td>\n",
       "      <td>9.000000</td>\n",
       "      <td>3.000000</td>\n",
       "    </tr>\n",
       "    <tr>\n",
       "      <th>25%</th>\n",
       "      <td>9.500000</td>\n",
       "      <td>0.035000</td>\n",
       "      <td>0.210000</td>\n",
       "      <td>106.000000</td>\n",
       "      <td>5.000000</td>\n",
       "    </tr>\n",
       "    <tr>\n",
       "      <th>50%</th>\n",
       "      <td>10.400000</td>\n",
       "      <td>0.042000</td>\n",
       "      <td>0.260000</td>\n",
       "      <td>133.000000</td>\n",
       "      <td>6.000000</td>\n",
       "    </tr>\n",
       "    <tr>\n",
       "      <th>75%</th>\n",
       "      <td>11.400000</td>\n",
       "      <td>0.050000</td>\n",
       "      <td>0.330000</td>\n",
       "      <td>166.000000</td>\n",
       "      <td>6.000000</td>\n",
       "    </tr>\n",
       "    <tr>\n",
       "      <th>max</th>\n",
       "      <td>14.200000</td>\n",
       "      <td>0.346000</td>\n",
       "      <td>1.100000</td>\n",
       "      <td>440.000000</td>\n",
       "      <td>9.000000</td>\n",
       "    </tr>\n",
       "  </tbody>\n",
       "</table>\n",
       "</div>"
      ],
      "text/plain": [
       "           alcohol    chlorides  volatile_acidity  total_sulfur_dioxide  \\\n",
       "count  3961.000000  3961.000000       3961.000000           3961.000000   \n",
       "mean     10.589358     0.045905          0.280538            137.193512   \n",
       "std       1.217076     0.023103          0.103437             43.129065   \n",
       "min       8.000000     0.009000          0.080000              9.000000   \n",
       "25%       9.500000     0.035000          0.210000            106.000000   \n",
       "50%      10.400000     0.042000          0.260000            133.000000   \n",
       "75%      11.400000     0.050000          0.330000            166.000000   \n",
       "max      14.200000     0.346000          1.100000            440.000000   \n",
       "\n",
       "           quality  \n",
       "count  3961.000000  \n",
       "mean      5.854835  \n",
       "std       0.890683  \n",
       "min       3.000000  \n",
       "25%       5.000000  \n",
       "50%       6.000000  \n",
       "75%       6.000000  \n",
       "max       9.000000  "
      ]
     },
     "execution_count": 18,
     "metadata": {},
     "output_type": "execute_result"
    }
   ],
   "source": [
    "df_white_ml.describe()"
   ]
  },
  {
   "cell_type": "code",
   "execution_count": 19,
   "metadata": {},
   "outputs": [
    {
     "data": {
      "text/plain": [
       "alcohol                 0.450697\n",
       "chlorides               4.969076\n",
       "volatile_acidity        1.641081\n",
       "total_sulfur_dioxide    0.456800\n",
       "quality                 0.112004\n",
       "dtype: float64"
      ]
     },
     "execution_count": 19,
     "metadata": {},
     "output_type": "execute_result"
    }
   ],
   "source": [
    "skewness = df_white_ml[features].skew()\n",
    "skewness"
   ]
  },
  {
   "cell_type": "code",
   "execution_count": 20,
   "metadata": {},
   "outputs": [
    {
     "data": {
      "text/plain": [
       "alcohol                 -0.695980\n",
       "chlorides               35.530288\n",
       "volatile_acidity         5.327754\n",
       "total_sulfur_dioxide     0.735258\n",
       "quality                  0.299345\n",
       "dtype: float64"
      ]
     },
     "execution_count": 20,
     "metadata": {},
     "output_type": "execute_result"
    }
   ],
   "source": [
    "kurtosis = df_white_ml[features].kurtosis()\n",
    "kurtosis"
   ]
  },
  {
   "cell_type": "code",
   "execution_count": 21,
   "metadata": {},
   "outputs": [
    {
     "data": {
      "image/png": "[encoded data removed]",
      "text/plain": [
       "<Figure size 1500x400 with 5 Axes>"
      ]
     },
     "metadata": {},
     "output_type": "display_data"
    }
   ],
   "source": [
    "# Create boxplots for each feature\n",
    "\n",
    "plt.figure(figsize=(15, 4))\n",
    "\n",
    "for i, feature in enumerate(features, 1):\n",
    "    plt.subplot(1, 5, i)  # 1 row, 5 columns, plot by index\n",
    "    sns.boxplot(x=df_white_ml[feature], color='lightcoral')\n",
    "\n",
    "    \n",
    "plt.subplots_adjust(hspace=0.3, wspace=0.3)\n",
    "\n",
    "plt.show()"
   ]
  },
  {
   "cell_type": "code",
   "execution_count": 22,
   "metadata": {},
   "outputs": [
    {
     "data": {
      "image/png": "[encoded data removed]",
      "text/plain": [
       "<Figure size 1500x400 with 5 Axes>"
      ]
     },
     "metadata": {},
     "output_type": "display_data"
    }
   ],
   "source": [
    "# check data distribution with histograms\n",
    " \n",
    "plt.figure(figsize=(15, 4))\n",
    "\n",
    "# Create histograms for each feature\n",
    "for i, feature in enumerate(features, 1):\n",
    "    plt.subplot(1, 5, i)\n",
    "    sns.histplot(df_white_ml[feature], kde=True, bins=20, color='lightcoral', stat='density')\n",
    "    \n",
    "# Adjust space between plots\n",
    "plt.subplots_adjust(hspace=0.3, wspace=0.3)\n",
    "\n",
    "# Set white background for the figure and axes\n",
    "plt.gcf().patch.set_facecolor('white')  # Set the background of the figure\n",
    "for ax in plt.gcf().get_axes():\n",
    "    ax.set_facecolor('white')  # Set the background for each subplot\n",
    "\n",
    "plt.show()"
   ]
  },
  {
   "cell_type": "code",
   "execution_count": 23,
   "metadata": {},
   "outputs": [
    {
     "data": {
      "image/png": "[encoded data removed]",
      "text/plain": [
       "<Figure size 1500x400 with 6 Axes>"
      ]
     },
     "metadata": {},
     "output_type": "display_data"
    }
   ],
   "source": [
    "# Create hexbins to view data distribution in relation to quality\n",
    "\n",
    "# Set up the figure for 1 row and 4 columns\n",
    "fig, axs = plt.subplots(1, 5, figsize=(15, 4))\n",
    "fig.suptitle(\"Hexbin Plots for Feature vs. Quality\", fontsize=16)\n",
    "plt.subplots_adjust(hspace=0.4, wspace=0.3)\n",
    "\n",
    "# Set background color for figure and subplots\n",
    "fig.patch.set_facecolor('grey')\n",
    "for ax in axs:\n",
    "    ax.set_facecolor('grey')\n",
    "\n",
    "# Plot hexbin for each feature\n",
    "for ax, feature in zip(axs, features):\n",
    "    hb = ax.hexbin(df_white_ml[feature], df_white_ml['quality'], gridsize=30, cmap='Reds', mincnt=1)\n",
    "    ax.set_xlabel(feature)\n",
    "    ax.set_ylabel('Quality')\n",
    "\n",
    "# Add color bar\n",
    "cbar = fig.colorbar(hb, ax=axs, shrink=0.6)\n",
    "cbar.set_label('Density')\n",
    "\n",
    "plt.show()"
   ]
  },
  {
   "cell_type": "markdown",
   "metadata": {},
   "source": [
    "* alcohol: No action needed, values seem reasonable, majority of data between 9.5 and 11.4\n",
    "* chlorides: Strong right skew, Max value of 0.346 is much higher than the 75th percentile, indicates extreme outliers but also has some extreme small values with min 0.009  \n",
    "* volatile_acidity: Range: 0.08 to 1.1. most values between 0.21 and 0.33. max is notably higher than the 75th percentile\n",
    "* total_sulfur_dioxide: The max of 440 is too high when i check quantiles, ndicates extreme high values, plots also show some concentration on small values. \n",
    "* I will check the values outside the 5th and 95th percentiles to deal with outliers and will likely remove them if they don't provide meaningful characteristics for the features."
   ]
  },
  {
   "cell_type": "markdown",
   "metadata": {},
   "source": [
    "### chloride outliers"
   ]
  },
  {
   "cell_type": "code",
   "execution_count": 24,
   "metadata": {},
   "outputs": [
    {
     "data": {
      "text/plain": [
       "count    3961.000000\n",
       "mean        0.045905\n",
       "std         0.023103\n",
       "min         0.009000\n",
       "25%         0.035000\n",
       "50%         0.042000\n",
       "75%         0.050000\n",
       "max         0.346000\n",
       "Name: chlorides, dtype: float64"
      ]
     },
     "execution_count": 24,
     "metadata": {},
     "output_type": "execute_result"
    }
   ],
   "source": [
    "df_white_ml['chlorides'].describe()"
   ]
  },
  {
   "cell_type": "code",
   "execution_count": 25,
   "metadata": {},
   "outputs": [
    {
     "data": {
      "text/plain": [
       "0.069"
      ]
     },
     "execution_count": 25,
     "metadata": {},
     "output_type": "execute_result"
    }
   ],
   "source": [
    "df_white_ml['chlorides'].quantile(0.95)"
   ]
  },
  {
   "cell_type": "code",
   "execution_count": 26,
   "metadata": {},
   "outputs": [
    {
     "data": {
      "text/plain": [
       "0.027"
      ]
     },
     "execution_count": 26,
     "metadata": {},
     "output_type": "execute_result"
    }
   ],
   "source": [
    "df_white_ml['chlorides'].quantile(0.05)"
   ]
  },
  {
   "cell_type": "code",
   "execution_count": 27,
   "metadata": {},
   "outputs": [
    {
     "name": "stdout",
     "output_type": "stream",
     "text": [
      "<class 'pandas.core.frame.DataFrame'>\n",
      "Index: 384 entries, 18 to 3960\n",
      "Data columns (total 5 columns):\n",
      " #   Column                Non-Null Count  Dtype  \n",
      "---  ------                --------------  -----  \n",
      " 0   alcohol               384 non-null    float64\n",
      " 1   chlorides             384 non-null    float64\n",
      " 2   volatile_acidity      384 non-null    float64\n",
      " 3   total_sulfur_dioxide  384 non-null    float64\n",
      " 4   quality               384 non-null    int64  \n",
      "dtypes: float64(4), int64(1)\n",
      "memory usage: 18.0 KB\n"
     ]
    }
   ],
   "source": [
    "df_filtered = df_white_ml[(df_white_ml['chlorides'] > 0.069) | (df_white_ml['chlorides'] < 0.027)]\n",
    "df_filtered.info()"
   ]
  },
  {
   "cell_type": "code",
   "execution_count": 28,
   "metadata": {},
   "outputs": [
    {
     "data": {
      "text/html": [
       "<div>\n",
       "<style scoped>\n",
       "    .dataframe tbody tr th:only-of-type {\n",
       "        vertical-align: middle;\n",
       "    }\n",
       "\n",
       "    .dataframe tbody tr th {\n",
       "        vertical-align: top;\n",
       "    }\n",
       "\n",
       "    .dataframe thead th {\n",
       "        text-align: right;\n",
       "    }\n",
       "</style>\n",
       "<table border=\"1\" class=\"dataframe\">\n",
       "  <thead>\n",
       "    <tr style=\"text-align: right;\">\n",
       "      <th></th>\n",
       "      <th>18</th>\n",
       "      <th>30</th>\n",
       "      <th>34</th>\n",
       "      <th>35</th>\n",
       "      <th>47</th>\n",
       "      <th>53</th>\n",
       "      <th>92</th>\n",
       "      <th>104</th>\n",
       "      <th>105</th>\n",
       "      <th>110</th>\n",
       "      <th>166</th>\n",
       "      <th>167</th>\n",
       "      <th>168</th>\n",
       "      <th>188</th>\n",
       "      <th>203</th>\n",
       "      <th>212</th>\n",
       "      <th>267</th>\n",
       "      <th>301</th>\n",
       "      <th>312</th>\n",
       "      <th>325</th>\n",
       "      <th>331</th>\n",
       "      <th>359</th>\n",
       "      <th>367</th>\n",
       "      <th>374</th>\n",
       "      <th>379</th>\n",
       "      <th>387</th>\n",
       "      <th>392</th>\n",
       "      <th>398</th>\n",
       "      <th>403</th>\n",
       "      <th>405</th>\n",
       "      <th>412</th>\n",
       "      <th>414</th>\n",
       "      <th>416</th>\n",
       "      <th>423</th>\n",
       "      <th>429</th>\n",
       "      <th>440</th>\n",
       "      <th>446</th>\n",
       "      <th>461</th>\n",
       "      <th>503</th>\n",
       "      <th>517</th>\n",
       "      <th>518</th>\n",
       "      <th>523</th>\n",
       "      <th>554</th>\n",
       "      <th>572</th>\n",
       "      <th>576</th>\n",
       "      <th>585</th>\n",
       "      <th>609</th>\n",
       "      <th>615</th>\n",
       "      <th>618</th>\n",
       "      <th>622</th>\n",
       "    </tr>\n",
       "  </thead>\n",
       "  <tbody>\n",
       "    <tr>\n",
       "      <th>alcohol</th>\n",
       "      <td>9.300</td>\n",
       "      <td>12.80</td>\n",
       "      <td>9.400</td>\n",
       "      <td>9.400</td>\n",
       "      <td>9.100</td>\n",
       "      <td>8.600</td>\n",
       "      <td>8.800</td>\n",
       "      <td>9.800</td>\n",
       "      <td>11.000</td>\n",
       "      <td>10.60</td>\n",
       "      <td>9.10</td>\n",
       "      <td>9.100</td>\n",
       "      <td>9.100</td>\n",
       "      <td>9.100</td>\n",
       "      <td>11.400</td>\n",
       "      <td>9.800</td>\n",
       "      <td>9.100</td>\n",
       "      <td>9.600</td>\n",
       "      <td>10.800</td>\n",
       "      <td>10.800</td>\n",
       "      <td>12.200</td>\n",
       "      <td>9.200</td>\n",
       "      <td>12.900</td>\n",
       "      <td>9.10</td>\n",
       "      <td>12.900</td>\n",
       "      <td>8.900</td>\n",
       "      <td>12.500</td>\n",
       "      <td>9.200</td>\n",
       "      <td>9.600</td>\n",
       "      <td>9.700</td>\n",
       "      <td>11.400</td>\n",
       "      <td>12.500</td>\n",
       "      <td>12.500</td>\n",
       "      <td>8.80</td>\n",
       "      <td>11.200</td>\n",
       "      <td>9.200</td>\n",
       "      <td>9.300</td>\n",
       "      <td>11.300</td>\n",
       "      <td>9.40</td>\n",
       "      <td>9.000</td>\n",
       "      <td>9.000</td>\n",
       "      <td>9.100</td>\n",
       "      <td>9.200</td>\n",
       "      <td>9.40</td>\n",
       "      <td>9.00</td>\n",
       "      <td>11.100</td>\n",
       "      <td>12.40</td>\n",
       "      <td>9.400</td>\n",
       "      <td>11.100</td>\n",
       "      <td>10.800</td>\n",
       "    </tr>\n",
       "    <tr>\n",
       "      <th>chlorides</th>\n",
       "      <td>0.074</td>\n",
       "      <td>0.08</td>\n",
       "      <td>0.172</td>\n",
       "      <td>0.173</td>\n",
       "      <td>0.147</td>\n",
       "      <td>0.092</td>\n",
       "      <td>0.082</td>\n",
       "      <td>0.092</td>\n",
       "      <td>0.026</td>\n",
       "      <td>0.02</td>\n",
       "      <td>0.20</td>\n",
       "      <td>0.197</td>\n",
       "      <td>0.197</td>\n",
       "      <td>0.070</td>\n",
       "      <td>0.026</td>\n",
       "      <td>0.074</td>\n",
       "      <td>0.132</td>\n",
       "      <td>0.071</td>\n",
       "      <td>0.089</td>\n",
       "      <td>0.026</td>\n",
       "      <td>0.021</td>\n",
       "      <td>0.108</td>\n",
       "      <td>0.026</td>\n",
       "      <td>0.07</td>\n",
       "      <td>0.022</td>\n",
       "      <td>0.081</td>\n",
       "      <td>0.023</td>\n",
       "      <td>0.073</td>\n",
       "      <td>0.346</td>\n",
       "      <td>0.025</td>\n",
       "      <td>0.022</td>\n",
       "      <td>0.025</td>\n",
       "      <td>0.026</td>\n",
       "      <td>0.09</td>\n",
       "      <td>0.025</td>\n",
       "      <td>0.114</td>\n",
       "      <td>0.186</td>\n",
       "      <td>0.026</td>\n",
       "      <td>0.18</td>\n",
       "      <td>0.084</td>\n",
       "      <td>0.083</td>\n",
       "      <td>0.096</td>\n",
       "      <td>0.094</td>\n",
       "      <td>0.24</td>\n",
       "      <td>0.29</td>\n",
       "      <td>0.022</td>\n",
       "      <td>0.02</td>\n",
       "      <td>0.185</td>\n",
       "      <td>0.022</td>\n",
       "      <td>0.021</td>\n",
       "    </tr>\n",
       "    <tr>\n",
       "      <th>volatile_acidity</th>\n",
       "      <td>0.670</td>\n",
       "      <td>0.28</td>\n",
       "      <td>0.230</td>\n",
       "      <td>0.240</td>\n",
       "      <td>0.200</td>\n",
       "      <td>0.220</td>\n",
       "      <td>0.170</td>\n",
       "      <td>0.130</td>\n",
       "      <td>0.190</td>\n",
       "      <td>0.26</td>\n",
       "      <td>0.29</td>\n",
       "      <td>0.300</td>\n",
       "      <td>0.290</td>\n",
       "      <td>0.685</td>\n",
       "      <td>0.210</td>\n",
       "      <td>0.260</td>\n",
       "      <td>0.280</td>\n",
       "      <td>0.335</td>\n",
       "      <td>0.180</td>\n",
       "      <td>0.170</td>\n",
       "      <td>0.240</td>\n",
       "      <td>0.550</td>\n",
       "      <td>0.250</td>\n",
       "      <td>0.60</td>\n",
       "      <td>0.230</td>\n",
       "      <td>0.210</td>\n",
       "      <td>0.240</td>\n",
       "      <td>0.550</td>\n",
       "      <td>0.370</td>\n",
       "      <td>0.160</td>\n",
       "      <td>0.190</td>\n",
       "      <td>0.440</td>\n",
       "      <td>0.230</td>\n",
       "      <td>0.51</td>\n",
       "      <td>0.360</td>\n",
       "      <td>0.320</td>\n",
       "      <td>0.180</td>\n",
       "      <td>0.250</td>\n",
       "      <td>0.30</td>\n",
       "      <td>0.460</td>\n",
       "      <td>0.260</td>\n",
       "      <td>0.560</td>\n",
       "      <td>0.570</td>\n",
       "      <td>0.27</td>\n",
       "      <td>0.67</td>\n",
       "      <td>0.190</td>\n",
       "      <td>0.33</td>\n",
       "      <td>0.330</td>\n",
       "      <td>0.280</td>\n",
       "      <td>0.210</td>\n",
       "    </tr>\n",
       "    <tr>\n",
       "      <th>total_sulfur_dioxide</th>\n",
       "      <td>168.000</td>\n",
       "      <td>123.00</td>\n",
       "      <td>158.000</td>\n",
       "      <td>157.000</td>\n",
       "      <td>132.000</td>\n",
       "      <td>123.000</td>\n",
       "      <td>163.000</td>\n",
       "      <td>158.000</td>\n",
       "      <td>143.000</td>\n",
       "      <td>57.00</td>\n",
       "      <td>181.00</td>\n",
       "      <td>180.000</td>\n",
       "      <td>183.000</td>\n",
       "      <td>172.000</td>\n",
       "      <td>100.000</td>\n",
       "      <td>197.000</td>\n",
       "      <td>127.000</td>\n",
       "      <td>128.000</td>\n",
       "      <td>143.000</td>\n",
       "      <td>115.000</td>\n",
       "      <td>69.000</td>\n",
       "      <td>151.000</td>\n",
       "      <td>126.000</td>\n",
       "      <td>174.00</td>\n",
       "      <td>82.000</td>\n",
       "      <td>126.000</td>\n",
       "      <td>86.000</td>\n",
       "      <td>165.000</td>\n",
       "      <td>200.000</td>\n",
       "      <td>117.000</td>\n",
       "      <td>158.000</td>\n",
       "      <td>173.000</td>\n",
       "      <td>147.000</td>\n",
       "      <td>135.00</td>\n",
       "      <td>55.000</td>\n",
       "      <td>140.000</td>\n",
       "      <td>150.000</td>\n",
       "      <td>93.000</td>\n",
       "      <td>160.00</td>\n",
       "      <td>222.000</td>\n",
       "      <td>171.000</td>\n",
       "      <td>177.000</td>\n",
       "      <td>188.000</td>\n",
       "      <td>174.00</td>\n",
       "      <td>193.00</td>\n",
       "      <td>94.000</td>\n",
       "      <td>89.00</td>\n",
       "      <td>188.000</td>\n",
       "      <td>49.000</td>\n",
       "      <td>142.000</td>\n",
       "    </tr>\n",
       "    <tr>\n",
       "      <th>quality</th>\n",
       "      <td>5.000</td>\n",
       "      <td>5.00</td>\n",
       "      <td>6.000</td>\n",
       "      <td>6.000</td>\n",
       "      <td>6.000</td>\n",
       "      <td>6.000</td>\n",
       "      <td>6.000</td>\n",
       "      <td>6.000</td>\n",
       "      <td>6.000</td>\n",
       "      <td>5.00</td>\n",
       "      <td>5.00</td>\n",
       "      <td>6.000</td>\n",
       "      <td>5.000</td>\n",
       "      <td>6.000</td>\n",
       "      <td>7.000</td>\n",
       "      <td>3.000</td>\n",
       "      <td>6.000</td>\n",
       "      <td>6.000</td>\n",
       "      <td>6.000</td>\n",
       "      <td>7.000</td>\n",
       "      <td>6.000</td>\n",
       "      <td>4.000</td>\n",
       "      <td>8.000</td>\n",
       "      <td>5.00</td>\n",
       "      <td>7.000</td>\n",
       "      <td>5.000</td>\n",
       "      <td>6.000</td>\n",
       "      <td>6.000</td>\n",
       "      <td>5.000</td>\n",
       "      <td>6.000</td>\n",
       "      <td>6.000</td>\n",
       "      <td>6.000</td>\n",
       "      <td>6.000</td>\n",
       "      <td>5.00</td>\n",
       "      <td>6.000</td>\n",
       "      <td>6.000</td>\n",
       "      <td>5.000</td>\n",
       "      <td>7.000</td>\n",
       "      <td>6.00</td>\n",
       "      <td>5.000</td>\n",
       "      <td>5.000</td>\n",
       "      <td>4.000</td>\n",
       "      <td>4.000</td>\n",
       "      <td>5.00</td>\n",
       "      <td>4.00</td>\n",
       "      <td>6.000</td>\n",
       "      <td>8.00</td>\n",
       "      <td>5.000</td>\n",
       "      <td>7.000</td>\n",
       "      <td>7.000</td>\n",
       "    </tr>\n",
       "  </tbody>\n",
       "</table>\n",
       "</div>"
      ],
      "text/plain": [
       "                          18      30       34       35       47       53   \\\n",
       "alcohol                 9.300   12.80    9.400    9.400    9.100    8.600   \n",
       "chlorides               0.074    0.08    0.172    0.173    0.147    0.092   \n",
       "volatile_acidity        0.670    0.28    0.230    0.240    0.200    0.220   \n",
       "total_sulfur_dioxide  168.000  123.00  158.000  157.000  132.000  123.000   \n",
       "quality                 5.000    5.00    6.000    6.000    6.000    6.000   \n",
       "\n",
       "                          92       104      105    110     166      167  \\\n",
       "alcohol                 8.800    9.800   11.000  10.60    9.10    9.100   \n",
       "chlorides               0.082    0.092    0.026   0.02    0.20    0.197   \n",
       "volatile_acidity        0.170    0.130    0.190   0.26    0.29    0.300   \n",
       "total_sulfur_dioxide  163.000  158.000  143.000  57.00  181.00  180.000   \n",
       "quality                 6.000    6.000    6.000   5.00    5.00    6.000   \n",
       "\n",
       "                          168      188      203      212      267      301  \\\n",
       "alcohol                 9.100    9.100   11.400    9.800    9.100    9.600   \n",
       "chlorides               0.197    0.070    0.026    0.074    0.132    0.071   \n",
       "volatile_acidity        0.290    0.685    0.210    0.260    0.280    0.335   \n",
       "total_sulfur_dioxide  183.000  172.000  100.000  197.000  127.000  128.000   \n",
       "quality                 5.000    6.000    7.000    3.000    6.000    6.000   \n",
       "\n",
       "                          312      325     331      359      367     374  \\\n",
       "alcohol                10.800   10.800  12.200    9.200   12.900    9.10   \n",
       "chlorides               0.089    0.026   0.021    0.108    0.026    0.07   \n",
       "volatile_acidity        0.180    0.170   0.240    0.550    0.250    0.60   \n",
       "total_sulfur_dioxide  143.000  115.000  69.000  151.000  126.000  174.00   \n",
       "quality                 6.000    7.000   6.000    4.000    8.000    5.00   \n",
       "\n",
       "                         379      387     392      398      403      405  \\\n",
       "alcohol               12.900    8.900  12.500    9.200    9.600    9.700   \n",
       "chlorides              0.022    0.081   0.023    0.073    0.346    0.025   \n",
       "volatile_acidity       0.230    0.210   0.240    0.550    0.370    0.160   \n",
       "total_sulfur_dioxide  82.000  126.000  86.000  165.000  200.000  117.000   \n",
       "quality                7.000    5.000   6.000    6.000    5.000    6.000   \n",
       "\n",
       "                          412      414      416     423     429      440  \\\n",
       "alcohol                11.400   12.500   12.500    8.80  11.200    9.200   \n",
       "chlorides               0.022    0.025    0.026    0.09   0.025    0.114   \n",
       "volatile_acidity        0.190    0.440    0.230    0.51   0.360    0.320   \n",
       "total_sulfur_dioxide  158.000  173.000  147.000  135.00  55.000  140.000   \n",
       "quality                 6.000    6.000    6.000    5.00   6.000    6.000   \n",
       "\n",
       "                          446     461     503      517      518      523  \\\n",
       "alcohol                 9.300  11.300    9.40    9.000    9.000    9.100   \n",
       "chlorides               0.186   0.026    0.18    0.084    0.083    0.096   \n",
       "volatile_acidity        0.180   0.250    0.30    0.460    0.260    0.560   \n",
       "total_sulfur_dioxide  150.000  93.000  160.00  222.000  171.000  177.000   \n",
       "quality                 5.000   7.000    6.00    5.000    5.000    4.000   \n",
       "\n",
       "                          554     572     576     585    609      615     618  \\\n",
       "alcohol                 9.200    9.40    9.00  11.100  12.40    9.400  11.100   \n",
       "chlorides               0.094    0.24    0.29   0.022   0.02    0.185   0.022   \n",
       "volatile_acidity        0.570    0.27    0.67   0.190   0.33    0.330   0.280   \n",
       "total_sulfur_dioxide  188.000  174.00  193.00  94.000  89.00  188.000  49.000   \n",
       "quality                 4.000    5.00    4.00   6.000   8.00    5.000   7.000   \n",
       "\n",
       "                          622  \n",
       "alcohol                10.800  \n",
       "chlorides               0.021  \n",
       "volatile_acidity        0.210  \n",
       "total_sulfur_dioxide  142.000  \n",
       "quality                 7.000  "
      ]
     },
     "execution_count": 28,
     "metadata": {},
     "output_type": "execute_result"
    }
   ],
   "source": [
    "df_filtered.head(50).T"
   ]
  },
  {
   "cell_type": "code",
   "execution_count": 29,
   "metadata": {},
   "outputs": [
    {
     "data": {
      "text/plain": [
       "quality\n",
       "6    165\n",
       "5    120\n",
       "7     63\n",
       "8     16\n",
       "4     15\n",
       "3      3\n",
       "9      2\n",
       "Name: count, dtype: int64"
      ]
     },
     "execution_count": 29,
     "metadata": {},
     "output_type": "execute_result"
    }
   ],
   "source": [
    "df_filtered['quality'].value_counts()"
   ]
  },
  {
   "cell_type": "code",
   "execution_count": 30,
   "metadata": {},
   "outputs": [
    {
     "data": {
      "text/html": [
       "<div>\n",
       "<style scoped>\n",
       "    .dataframe tbody tr th:only-of-type {\n",
       "        vertical-align: middle;\n",
       "    }\n",
       "\n",
       "    .dataframe tbody tr th {\n",
       "        vertical-align: top;\n",
       "    }\n",
       "\n",
       "    .dataframe thead th {\n",
       "        text-align: right;\n",
       "    }\n",
       "</style>\n",
       "<table border=\"1\" class=\"dataframe\">\n",
       "  <thead>\n",
       "    <tr style=\"text-align: right;\">\n",
       "      <th></th>\n",
       "      <th>alcohol</th>\n",
       "      <th>chlorides</th>\n",
       "      <th>volatile_acidity</th>\n",
       "      <th>total_sulfur_dioxide</th>\n",
       "      <th>quality</th>\n",
       "    </tr>\n",
       "  </thead>\n",
       "  <tbody>\n",
       "    <tr>\n",
       "      <th>688</th>\n",
       "      <td>12.4</td>\n",
       "      <td>0.021</td>\n",
       "      <td>0.36</td>\n",
       "      <td>85.0</td>\n",
       "      <td>9</td>\n",
       "    </tr>\n",
       "    <tr>\n",
       "      <th>732</th>\n",
       "      <td>12.7</td>\n",
       "      <td>0.018</td>\n",
       "      <td>0.36</td>\n",
       "      <td>119.0</td>\n",
       "      <td>9</td>\n",
       "    </tr>\n",
       "  </tbody>\n",
       "</table>\n",
       "</div>"
      ],
      "text/plain": [
       "     alcohol  chlorides  volatile_acidity  total_sulfur_dioxide  quality\n",
       "688     12.4      0.021              0.36                  85.0        9\n",
       "732     12.7      0.018              0.36                 119.0        9"
      ]
     },
     "execution_count": 30,
     "metadata": {},
     "output_type": "execute_result"
    }
   ],
   "source": [
    "df_filtered[df_filtered['quality'] == 9]\n"
   ]
  },
  {
   "cell_type": "code",
   "execution_count": 31,
   "metadata": {},
   "outputs": [
    {
     "data": {
      "text/html": [
       "<div>\n",
       "<style scoped>\n",
       "    .dataframe tbody tr th:only-of-type {\n",
       "        vertical-align: middle;\n",
       "    }\n",
       "\n",
       "    .dataframe tbody tr th {\n",
       "        vertical-align: top;\n",
       "    }\n",
       "\n",
       "    .dataframe thead th {\n",
       "        text-align: right;\n",
       "    }\n",
       "</style>\n",
       "<table border=\"1\" class=\"dataframe\">\n",
       "  <thead>\n",
       "    <tr style=\"text-align: right;\">\n",
       "      <th></th>\n",
       "      <th>alcohol</th>\n",
       "      <th>chlorides</th>\n",
       "      <th>volatile_acidity</th>\n",
       "      <th>total_sulfur_dioxide</th>\n",
       "      <th>quality</th>\n",
       "    </tr>\n",
       "  </thead>\n",
       "  <tbody>\n",
       "    <tr>\n",
       "      <th>3066</th>\n",
       "      <td>13.5</td>\n",
       "      <td>0.009</td>\n",
       "      <td>0.61</td>\n",
       "      <td>100.0</td>\n",
       "      <td>5</td>\n",
       "    </tr>\n",
       "    <tr>\n",
       "      <th>2174</th>\n",
       "      <td>11.7</td>\n",
       "      <td>0.012</td>\n",
       "      <td>0.28</td>\n",
       "      <td>100.0</td>\n",
       "      <td>7</td>\n",
       "    </tr>\n",
       "    <tr>\n",
       "      <th>3159</th>\n",
       "      <td>13.5</td>\n",
       "      <td>0.013</td>\n",
       "      <td>0.65</td>\n",
       "      <td>10.0</td>\n",
       "      <td>4</td>\n",
       "    </tr>\n",
       "    <tr>\n",
       "      <th>3064</th>\n",
       "      <td>12.0</td>\n",
       "      <td>0.014</td>\n",
       "      <td>0.27</td>\n",
       "      <td>143.0</td>\n",
       "      <td>4</td>\n",
       "    </tr>\n",
       "    <tr>\n",
       "      <th>2967</th>\n",
       "      <td>12.5</td>\n",
       "      <td>0.014</td>\n",
       "      <td>0.29</td>\n",
       "      <td>89.0</td>\n",
       "      <td>7</td>\n",
       "    </tr>\n",
       "    <tr>\n",
       "      <th>...</th>\n",
       "      <td>...</td>\n",
       "      <td>...</td>\n",
       "      <td>...</td>\n",
       "      <td>...</td>\n",
       "      <td>...</td>\n",
       "    </tr>\n",
       "    <tr>\n",
       "      <th>1570</th>\n",
       "      <td>10.2</td>\n",
       "      <td>0.255</td>\n",
       "      <td>0.36</td>\n",
       "      <td>142.0</td>\n",
       "      <td>6</td>\n",
       "    </tr>\n",
       "    <tr>\n",
       "      <th>3594</th>\n",
       "      <td>9.8</td>\n",
       "      <td>0.271</td>\n",
       "      <td>0.36</td>\n",
       "      <td>140.0</td>\n",
       "      <td>5</td>\n",
       "    </tr>\n",
       "    <tr>\n",
       "      <th>576</th>\n",
       "      <td>9.0</td>\n",
       "      <td>0.290</td>\n",
       "      <td>0.67</td>\n",
       "      <td>193.0</td>\n",
       "      <td>4</td>\n",
       "    </tr>\n",
       "    <tr>\n",
       "      <th>1028</th>\n",
       "      <td>9.2</td>\n",
       "      <td>0.301</td>\n",
       "      <td>0.61</td>\n",
       "      <td>220.0</td>\n",
       "      <td>5</td>\n",
       "    </tr>\n",
       "    <tr>\n",
       "      <th>403</th>\n",
       "      <td>9.6</td>\n",
       "      <td>0.346</td>\n",
       "      <td>0.37</td>\n",
       "      <td>200.0</td>\n",
       "      <td>5</td>\n",
       "    </tr>\n",
       "  </tbody>\n",
       "</table>\n",
       "<p>384 rows × 5 columns</p>\n",
       "</div>"
      ],
      "text/plain": [
       "      alcohol  chlorides  volatile_acidity  total_sulfur_dioxide  quality\n",
       "3066     13.5      0.009              0.61                 100.0        5\n",
       "2174     11.7      0.012              0.28                 100.0        7\n",
       "3159     13.5      0.013              0.65                  10.0        4\n",
       "3064     12.0      0.014              0.27                 143.0        4\n",
       "2967     12.5      0.014              0.29                  89.0        7\n",
       "...       ...        ...               ...                   ...      ...\n",
       "1570     10.2      0.255              0.36                 142.0        6\n",
       "3594      9.8      0.271              0.36                 140.0        5\n",
       "576       9.0      0.290              0.67                 193.0        4\n",
       "1028      9.2      0.301              0.61                 220.0        5\n",
       "403       9.6      0.346              0.37                 200.0        5\n",
       "\n",
       "[384 rows x 5 columns]"
      ]
     },
     "execution_count": 31,
     "metadata": {},
     "output_type": "execute_result"
    }
   ],
   "source": [
    "df_filtered.sort_values(by='chlorides', ascending=True)"
   ]
  },
  {
   "cell_type": "markdown",
   "metadata": {},
   "source": [
    "* 5th percentile includes 2 of 5 high ranking as 9, there is a considerable negative correlation between chlorides and quality which makes sense considering the negative correlation \n",
    "* instead of 5th percentile 0.027, I will define the minimum value as 0.018 to keep the 2 white wines with quality value 9.  "
   ]
  },
  {
   "cell_type": "code",
   "execution_count": 32,
   "metadata": {},
   "outputs": [
    {
     "name": "stdout",
     "output_type": "stream",
     "text": [
      "<class 'pandas.core.frame.DataFrame'>\n",
      "Index: 209 entries, 18 to 3935\n",
      "Data columns (total 5 columns):\n",
      " #   Column                Non-Null Count  Dtype  \n",
      "---  ------                --------------  -----  \n",
      " 0   alcohol               209 non-null    float64\n",
      " 1   chlorides             209 non-null    float64\n",
      " 2   volatile_acidity      209 non-null    float64\n",
      " 3   total_sulfur_dioxide  209 non-null    float64\n",
      " 4   quality               209 non-null    int64  \n",
      "dtypes: float64(4), int64(1)\n",
      "memory usage: 9.8 KB\n"
     ]
    }
   ],
   "source": [
    "df_filtered = df_white_ml[(df_white_ml['chlorides'] > 0.069) | (df_white_ml['chlorides'] < 0.018)]\n",
    "df_filtered.info()"
   ]
  },
  {
   "cell_type": "code",
   "execution_count": 33,
   "metadata": {},
   "outputs": [
    {
     "data": {
      "text/plain": [
       "5.454545454545454"
      ]
     },
     "execution_count": 33,
     "metadata": {},
     "output_type": "execute_result"
    }
   ],
   "source": [
    "df_filtered['quality'].mean()"
   ]
  },
  {
   "cell_type": "code",
   "execution_count": 34,
   "metadata": {},
   "outputs": [
    {
     "data": {
      "text/plain": [
       "5.854834637717748"
      ]
     },
     "execution_count": 34,
     "metadata": {},
     "output_type": "execute_result"
    }
   ],
   "source": [
    "df_white_ml['quality'].mean()"
   ]
  },
  {
   "cell_type": "code",
   "execution_count": 35,
   "metadata": {},
   "outputs": [
    {
     "data": {
      "text/plain": [
       "count    3961.000000\n",
       "mean        0.045905\n",
       "std         0.023103\n",
       "min         0.009000\n",
       "25%         0.035000\n",
       "50%         0.042000\n",
       "75%         0.050000\n",
       "max         0.346000\n",
       "Name: chlorides, dtype: float64"
      ]
     },
     "execution_count": 35,
     "metadata": {},
     "output_type": "execute_result"
    }
   ],
   "source": [
    "df_white_ml['chlorides'].describe()"
   ]
  },
  {
   "cell_type": "markdown",
   "metadata": {},
   "source": [
    "* 209 of 3961 samples in data set(around 4%) will be removed. The quality distribution is fairly balanced, with an average quality 5.45, slightly lower than the overall average for all white wines 5.85. "
   ]
  },
  {
   "cell_type": "code",
   "execution_count": 36,
   "metadata": {},
   "outputs": [
    {
     "name": "stdout",
     "output_type": "stream",
     "text": [
      "<class 'pandas.core.frame.DataFrame'>\n",
      "RangeIndex: 3752 entries, 0 to 3751\n",
      "Data columns (total 5 columns):\n",
      " #   Column                Non-Null Count  Dtype  \n",
      "---  ------                --------------  -----  \n",
      " 0   alcohol               3752 non-null   float64\n",
      " 1   chlorides             3752 non-null   float64\n",
      " 2   volatile_acidity      3752 non-null   float64\n",
      " 3   total_sulfur_dioxide  3752 non-null   float64\n",
      " 4   quality               3752 non-null   int64  \n",
      "dtypes: float64(4), int64(1)\n",
      "memory usage: 146.7 KB\n"
     ]
    }
   ],
   "source": [
    "df_white_ml = df_white_ml[(df_white_ml['chlorides'] <= 0.069) & (df_white_ml['chlorides'] >= 0.018)].reset_index(drop=True)\n",
    "df_white_ml.info()\n"
   ]
  },
  {
   "cell_type": "code",
   "execution_count": 37,
   "metadata": {},
   "outputs": [
    {
     "data": {
      "text/plain": [
       "count    3752.000000\n",
       "mean        0.042098\n",
       "std         0.009695\n",
       "min         0.018000\n",
       "25%         0.035000\n",
       "50%         0.042000\n",
       "75%         0.049000\n",
       "max         0.069000\n",
       "Name: chlorides, dtype: float64"
      ]
     },
     "execution_count": 37,
     "metadata": {},
     "output_type": "execute_result"
    }
   ],
   "source": [
    "df_white_ml['chlorides'].describe()"
   ]
  },
  {
   "cell_type": "code",
   "execution_count": 38,
   "metadata": {},
   "outputs": [
    {
     "data": {
      "text/plain": [
       "0.15328670967948368"
      ]
     },
     "execution_count": 38,
     "metadata": {},
     "output_type": "execute_result"
    }
   ],
   "source": [
    "df_white_ml['chlorides'].skew()"
   ]
  },
  {
   "cell_type": "code",
   "execution_count": 39,
   "metadata": {},
   "outputs": [
    {
     "data": {
      "text/plain": [
       "-0.2768626683841058"
      ]
     },
     "execution_count": 39,
     "metadata": {},
     "output_type": "execute_result"
    }
   ],
   "source": [
    "df_white_ml['chlorides'].kurtosis()"
   ]
  },
  {
   "cell_type": "code",
   "execution_count": 40,
   "metadata": {},
   "outputs": [
    {
     "data": {
      "text/plain": [
       "5.877132196162047"
      ]
     },
     "execution_count": 40,
     "metadata": {},
     "output_type": "execute_result"
    }
   ],
   "source": [
    "df_white_ml['quality'].mean()"
   ]
  },
  {
   "cell_type": "markdown",
   "metadata": {},
   "source": [
    "* The mean decreased slightly from 0.045 to 0.042\n",
    "* Standard deviation was reduced significantly from 0.023 to 0.009\n",
    "* The kurtosis dropped to a slight negative value (-0.27), now indicating a more uniform, platykurtic distribution with no extreme tails.\n",
    "* Skewness reduced to 0.15, which is close to a normal distribution."
   ]
  },
  {
   "cell_type": "markdown",
   "metadata": {},
   "source": [
    "## volatile_acidity outliers"
   ]
  },
  {
   "cell_type": "markdown",
   "metadata": {},
   "source": [
    "* volatile acidity is caused by bacterial spoilage, producing acetic acid, which can lead to serious faults in the wine. \n",
    "* Legal limits for volatile acidity reach up to 1.2 g/L in white wines. source: https://enology.umn.edu/news/volatile-acidity-wine-making "
   ]
  },
  {
   "cell_type": "code",
   "execution_count": 41,
   "metadata": {},
   "outputs": [
    {
     "data": {
      "text/plain": [
       "count    3752.000000\n",
       "mean        0.277849\n",
       "std         0.101043\n",
       "min         0.080000\n",
       "25%         0.210000\n",
       "50%         0.260000\n",
       "75%         0.320000\n",
       "max         1.100000\n",
       "Name: volatile_acidity, dtype: float64"
      ]
     },
     "execution_count": 41,
     "metadata": {},
     "output_type": "execute_result"
    }
   ],
   "source": [
    "df_white_ml['volatile_acidity'].describe()"
   ]
  },
  {
   "cell_type": "code",
   "execution_count": 42,
   "metadata": {},
   "outputs": [
    {
     "data": {
      "text/plain": [
       "0.46"
      ]
     },
     "execution_count": 42,
     "metadata": {},
     "output_type": "execute_result"
    }
   ],
   "source": [
    "df_white_ml['volatile_acidity'].quantile(0.95)"
   ]
  },
  {
   "cell_type": "code",
   "execution_count": 43,
   "metadata": {},
   "outputs": [
    {
     "data": {
      "text/plain": [
       "0.15"
      ]
     },
     "execution_count": 43,
     "metadata": {},
     "output_type": "execute_result"
    }
   ],
   "source": [
    "df_white_ml['volatile_acidity'].quantile(0.05)"
   ]
  },
  {
   "cell_type": "code",
   "execution_count": 44,
   "metadata": {},
   "outputs": [
    {
     "name": "stdout",
     "output_type": "stream",
     "text": [
      "<class 'pandas.core.frame.DataFrame'>\n",
      "Index: 312 entries, 12 to 3737\n",
      "Data columns (total 5 columns):\n",
      " #   Column                Non-Null Count  Dtype  \n",
      "---  ------                --------------  -----  \n",
      " 0   alcohol               312 non-null    float64\n",
      " 1   chlorides             312 non-null    float64\n",
      " 2   volatile_acidity      312 non-null    float64\n",
      " 3   total_sulfur_dioxide  312 non-null    float64\n",
      " 4   quality               312 non-null    int64  \n",
      "dtypes: float64(4), int64(1)\n",
      "memory usage: 14.6 KB\n"
     ]
    }
   ],
   "source": [
    "df_filtered = df_white_ml[(df_white_ml['volatile_acidity'] > 0.46) | (df_white_ml['volatile_acidity'] < 0.15)]\n",
    "df_filtered.info()"
   ]
  },
  {
   "cell_type": "code",
   "execution_count": 45,
   "metadata": {},
   "outputs": [
    {
     "data": {
      "text/html": [
       "<div>\n",
       "<style scoped>\n",
       "    .dataframe tbody tr th:only-of-type {\n",
       "        vertical-align: middle;\n",
       "    }\n",
       "\n",
       "    .dataframe tbody tr th {\n",
       "        vertical-align: top;\n",
       "    }\n",
       "\n",
       "    .dataframe thead th {\n",
       "        text-align: right;\n",
       "    }\n",
       "</style>\n",
       "<table border=\"1\" class=\"dataframe\">\n",
       "  <thead>\n",
       "    <tr style=\"text-align: right;\">\n",
       "      <th></th>\n",
       "      <th>12</th>\n",
       "      <th>13</th>\n",
       "      <th>25</th>\n",
       "      <th>27</th>\n",
       "      <th>48</th>\n",
       "      <th>62</th>\n",
       "      <th>80</th>\n",
       "      <th>83</th>\n",
       "      <th>89</th>\n",
       "      <th>91</th>\n",
       "      <th>117</th>\n",
       "      <th>137</th>\n",
       "      <th>143</th>\n",
       "      <th>153</th>\n",
       "      <th>161</th>\n",
       "      <th>167</th>\n",
       "      <th>171</th>\n",
       "      <th>178</th>\n",
       "      <th>182</th>\n",
       "      <th>186</th>\n",
       "      <th>206</th>\n",
       "      <th>212</th>\n",
       "      <th>213</th>\n",
       "      <th>214</th>\n",
       "      <th>215</th>\n",
       "      <th>217</th>\n",
       "      <th>235</th>\n",
       "      <th>250</th>\n",
       "      <th>257</th>\n",
       "      <th>258</th>\n",
       "      <th>280</th>\n",
       "      <th>285</th>\n",
       "      <th>300</th>\n",
       "      <th>314</th>\n",
       "      <th>326</th>\n",
       "      <th>327</th>\n",
       "      <th>351</th>\n",
       "      <th>369</th>\n",
       "      <th>380</th>\n",
       "      <th>403</th>\n",
       "      <th>412</th>\n",
       "      <th>422</th>\n",
       "      <th>447</th>\n",
       "      <th>474</th>\n",
       "      <th>502</th>\n",
       "      <th>514</th>\n",
       "      <th>529</th>\n",
       "      <th>566</th>\n",
       "      <th>606</th>\n",
       "      <th>607</th>\n",
       "    </tr>\n",
       "  </thead>\n",
       "  <tbody>\n",
       "    <tr>\n",
       "      <th>alcohol</th>\n",
       "      <td>9.600</td>\n",
       "      <td>12.800</td>\n",
       "      <td>10.200</td>\n",
       "      <td>9.000</td>\n",
       "      <td>10.500</td>\n",
       "      <td>9.00</td>\n",
       "      <td>9.400</td>\n",
       "      <td>9.200</td>\n",
       "      <td>9.700</td>\n",
       "      <td>11.800</td>\n",
       "      <td>9.000</td>\n",
       "      <td>11.400</td>\n",
       "      <td>8.70</td>\n",
       "      <td>12.700</td>\n",
       "      <td>9.60</td>\n",
       "      <td>10.20</td>\n",
       "      <td>9.700</td>\n",
       "      <td>10.400</td>\n",
       "      <td>8.900</td>\n",
       "      <td>9.600</td>\n",
       "      <td>10.200</td>\n",
       "      <td>9.700</td>\n",
       "      <td>9.700</td>\n",
       "      <td>9.700</td>\n",
       "      <td>9.700</td>\n",
       "      <td>9.000</td>\n",
       "      <td>8.500</td>\n",
       "      <td>12.500</td>\n",
       "      <td>10.100</td>\n",
       "      <td>10.300</td>\n",
       "      <td>9.600</td>\n",
       "      <td>11.400</td>\n",
       "      <td>10.000</td>\n",
       "      <td>10.200</td>\n",
       "      <td>9.400</td>\n",
       "      <td>10.300</td>\n",
       "      <td>9.300</td>\n",
       "      <td>9.400</td>\n",
       "      <td>9.200</td>\n",
       "      <td>12.000</td>\n",
       "      <td>10.80</td>\n",
       "      <td>9.700</td>\n",
       "      <td>9.100</td>\n",
       "      <td>10.800</td>\n",
       "      <td>10.800</td>\n",
       "      <td>9.000</td>\n",
       "      <td>10.000</td>\n",
       "      <td>9.200</td>\n",
       "      <td>9.800</td>\n",
       "      <td>9.800</td>\n",
       "    </tr>\n",
       "    <tr>\n",
       "      <th>chlorides</th>\n",
       "      <td>0.046</td>\n",
       "      <td>0.029</td>\n",
       "      <td>0.042</td>\n",
       "      <td>0.045</td>\n",
       "      <td>0.035</td>\n",
       "      <td>0.06</td>\n",
       "      <td>0.054</td>\n",
       "      <td>0.051</td>\n",
       "      <td>0.065</td>\n",
       "      <td>0.035</td>\n",
       "      <td>0.058</td>\n",
       "      <td>0.037</td>\n",
       "      <td>0.06</td>\n",
       "      <td>0.034</td>\n",
       "      <td>0.05</td>\n",
       "      <td>0.04</td>\n",
       "      <td>0.051</td>\n",
       "      <td>0.046</td>\n",
       "      <td>0.062</td>\n",
       "      <td>0.044</td>\n",
       "      <td>0.048</td>\n",
       "      <td>0.043</td>\n",
       "      <td>0.044</td>\n",
       "      <td>0.045</td>\n",
       "      <td>0.044</td>\n",
       "      <td>0.057</td>\n",
       "      <td>0.066</td>\n",
       "      <td>0.032</td>\n",
       "      <td>0.040</td>\n",
       "      <td>0.041</td>\n",
       "      <td>0.050</td>\n",
       "      <td>0.044</td>\n",
       "      <td>0.048</td>\n",
       "      <td>0.031</td>\n",
       "      <td>0.049</td>\n",
       "      <td>0.044</td>\n",
       "      <td>0.048</td>\n",
       "      <td>0.039</td>\n",
       "      <td>0.043</td>\n",
       "      <td>0.039</td>\n",
       "      <td>0.05</td>\n",
       "      <td>0.048</td>\n",
       "      <td>0.066</td>\n",
       "      <td>0.030</td>\n",
       "      <td>0.027</td>\n",
       "      <td>0.050</td>\n",
       "      <td>0.047</td>\n",
       "      <td>0.044</td>\n",
       "      <td>0.051</td>\n",
       "      <td>0.047</td>\n",
       "    </tr>\n",
       "    <tr>\n",
       "      <th>volatile_acidity</th>\n",
       "      <td>0.480</td>\n",
       "      <td>0.660</td>\n",
       "      <td>0.140</td>\n",
       "      <td>0.120</td>\n",
       "      <td>0.470</td>\n",
       "      <td>0.54</td>\n",
       "      <td>0.120</td>\n",
       "      <td>0.130</td>\n",
       "      <td>0.485</td>\n",
       "      <td>0.140</td>\n",
       "      <td>0.595</td>\n",
       "      <td>0.480</td>\n",
       "      <td>0.67</td>\n",
       "      <td>0.530</td>\n",
       "      <td>0.54</td>\n",
       "      <td>0.57</td>\n",
       "      <td>0.130</td>\n",
       "      <td>0.495</td>\n",
       "      <td>0.640</td>\n",
       "      <td>0.520</td>\n",
       "      <td>0.115</td>\n",
       "      <td>0.580</td>\n",
       "      <td>0.585</td>\n",
       "      <td>0.590</td>\n",
       "      <td>0.600</td>\n",
       "      <td>0.580</td>\n",
       "      <td>0.590</td>\n",
       "      <td>0.550</td>\n",
       "      <td>0.125</td>\n",
       "      <td>0.100</td>\n",
       "      <td>0.145</td>\n",
       "      <td>0.120</td>\n",
       "      <td>0.905</td>\n",
       "      <td>0.550</td>\n",
       "      <td>0.490</td>\n",
       "      <td>0.140</td>\n",
       "      <td>0.520</td>\n",
       "      <td>0.140</td>\n",
       "      <td>0.470</td>\n",
       "      <td>0.620</td>\n",
       "      <td>0.13</td>\n",
       "      <td>0.100</td>\n",
       "      <td>0.510</td>\n",
       "      <td>0.475</td>\n",
       "      <td>0.140</td>\n",
       "      <td>0.105</td>\n",
       "      <td>0.140</td>\n",
       "      <td>0.470</td>\n",
       "      <td>0.140</td>\n",
       "      <td>0.130</td>\n",
       "    </tr>\n",
       "    <tr>\n",
       "      <th>total_sulfur_dioxide</th>\n",
       "      <td>99.000</td>\n",
       "      <td>75.000</td>\n",
       "      <td>47.000</td>\n",
       "      <td>117.000</td>\n",
       "      <td>151.000</td>\n",
       "      <td>105.00</td>\n",
       "      <td>162.000</td>\n",
       "      <td>109.000</td>\n",
       "      <td>103.000</td>\n",
       "      <td>85.000</td>\n",
       "      <td>97.000</td>\n",
       "      <td>100.000</td>\n",
       "      <td>108.00</td>\n",
       "      <td>109.000</td>\n",
       "      <td>236.00</td>\n",
       "      <td>77.00</td>\n",
       "      <td>122.000</td>\n",
       "      <td>140.000</td>\n",
       "      <td>142.000</td>\n",
       "      <td>221.000</td>\n",
       "      <td>108.000</td>\n",
       "      <td>149.000</td>\n",
       "      <td>145.000</td>\n",
       "      <td>147.000</td>\n",
       "      <td>147.000</td>\n",
       "      <td>123.000</td>\n",
       "      <td>182.000</td>\n",
       "      <td>164.000</td>\n",
       "      <td>69.000</td>\n",
       "      <td>65.000</td>\n",
       "      <td>131.000</td>\n",
       "      <td>146.000</td>\n",
       "      <td>204.000</td>\n",
       "      <td>125.000</td>\n",
       "      <td>125.000</td>\n",
       "      <td>116.000</td>\n",
       "      <td>245.000</td>\n",
       "      <td>141.000</td>\n",
       "      <td>172.000</td>\n",
       "      <td>152.000</td>\n",
       "      <td>78.00</td>\n",
       "      <td>103.000</td>\n",
       "      <td>165.000</td>\n",
       "      <td>131.000</td>\n",
       "      <td>140.000</td>\n",
       "      <td>146.000</td>\n",
       "      <td>173.000</td>\n",
       "      <td>98.000</td>\n",
       "      <td>136.000</td>\n",
       "      <td>134.000</td>\n",
       "    </tr>\n",
       "    <tr>\n",
       "      <th>quality</th>\n",
       "      <td>6.000</td>\n",
       "      <td>8.000</td>\n",
       "      <td>6.000</td>\n",
       "      <td>6.000</td>\n",
       "      <td>5.000</td>\n",
       "      <td>5.00</td>\n",
       "      <td>5.000</td>\n",
       "      <td>6.000</td>\n",
       "      <td>4.000</td>\n",
       "      <td>6.000</td>\n",
       "      <td>4.000</td>\n",
       "      <td>4.000</td>\n",
       "      <td>4.00</td>\n",
       "      <td>8.000</td>\n",
       "      <td>5.00</td>\n",
       "      <td>5.00</td>\n",
       "      <td>6.000</td>\n",
       "      <td>6.000</td>\n",
       "      <td>4.000</td>\n",
       "      <td>6.000</td>\n",
       "      <td>6.000</td>\n",
       "      <td>5.000</td>\n",
       "      <td>6.000</td>\n",
       "      <td>6.000</td>\n",
       "      <td>5.000</td>\n",
       "      <td>5.000</td>\n",
       "      <td>3.000</td>\n",
       "      <td>8.000</td>\n",
       "      <td>6.000</td>\n",
       "      <td>7.000</td>\n",
       "      <td>6.000</td>\n",
       "      <td>7.000</td>\n",
       "      <td>5.000</td>\n",
       "      <td>6.000</td>\n",
       "      <td>5.000</td>\n",
       "      <td>6.000</td>\n",
       "      <td>6.000</td>\n",
       "      <td>6.000</td>\n",
       "      <td>5.000</td>\n",
       "      <td>6.000</td>\n",
       "      <td>6.00</td>\n",
       "      <td>6.000</td>\n",
       "      <td>5.000</td>\n",
       "      <td>5.000</td>\n",
       "      <td>6.000</td>\n",
       "      <td>6.000</td>\n",
       "      <td>6.000</td>\n",
       "      <td>5.000</td>\n",
       "      <td>7.000</td>\n",
       "      <td>7.000</td>\n",
       "    </tr>\n",
       "  </tbody>\n",
       "</table>\n",
       "</div>"
      ],
      "text/plain": [
       "                         12      13      25       27       48      62   \\\n",
       "alcohol                9.600  12.800  10.200    9.000   10.500    9.00   \n",
       "chlorides              0.046   0.029   0.042    0.045    0.035    0.06   \n",
       "volatile_acidity       0.480   0.660   0.140    0.120    0.470    0.54   \n",
       "total_sulfur_dioxide  99.000  75.000  47.000  117.000  151.000  105.00   \n",
       "quality                6.000   8.000   6.000    6.000    5.000    5.00   \n",
       "\n",
       "                          80       83       89      91      117      137  \\\n",
       "alcohol                 9.400    9.200    9.700  11.800   9.000   11.400   \n",
       "chlorides               0.054    0.051    0.065   0.035   0.058    0.037   \n",
       "volatile_acidity        0.120    0.130    0.485   0.140   0.595    0.480   \n",
       "total_sulfur_dioxide  162.000  109.000  103.000  85.000  97.000  100.000   \n",
       "quality                 5.000    6.000    4.000   6.000   4.000    4.000   \n",
       "\n",
       "                         143      153     161    167      171      178  \\\n",
       "alcohol                 8.70   12.700    9.60  10.20    9.700   10.400   \n",
       "chlorides               0.06    0.034    0.05   0.04    0.051    0.046   \n",
       "volatile_acidity        0.67    0.530    0.54   0.57    0.130    0.495   \n",
       "total_sulfur_dioxide  108.00  109.000  236.00  77.00  122.000  140.000   \n",
       "quality                 4.00    8.000    5.00   5.00    6.000    6.000   \n",
       "\n",
       "                          182      186      206      212      213      214  \\\n",
       "alcohol                 8.900    9.600   10.200    9.700    9.700    9.700   \n",
       "chlorides               0.062    0.044    0.048    0.043    0.044    0.045   \n",
       "volatile_acidity        0.640    0.520    0.115    0.580    0.585    0.590   \n",
       "total_sulfur_dioxide  142.000  221.000  108.000  149.000  145.000  147.000   \n",
       "quality                 4.000    6.000    6.000    5.000    6.000    6.000   \n",
       "\n",
       "                          215      217      235      250     257     258  \\\n",
       "alcohol                 9.700    9.000    8.500   12.500  10.100  10.300   \n",
       "chlorides               0.044    0.057    0.066    0.032   0.040   0.041   \n",
       "volatile_acidity        0.600    0.580    0.590    0.550   0.125   0.100   \n",
       "total_sulfur_dioxide  147.000  123.000  182.000  164.000  69.000  65.000   \n",
       "quality                 5.000    5.000    3.000    8.000   6.000   7.000   \n",
       "\n",
       "                          280      285      300      314      326      327  \\\n",
       "alcohol                 9.600   11.400   10.000   10.200    9.400   10.300   \n",
       "chlorides               0.050    0.044    0.048    0.031    0.049    0.044   \n",
       "volatile_acidity        0.145    0.120    0.905    0.550    0.490    0.140   \n",
       "total_sulfur_dioxide  131.000  146.000  204.000  125.000  125.000  116.000   \n",
       "quality                 6.000    7.000    5.000    6.000    5.000    6.000   \n",
       "\n",
       "                          351      369      380      403    412      422  \\\n",
       "alcohol                 9.300    9.400    9.200   12.000  10.80    9.700   \n",
       "chlorides               0.048    0.039    0.043    0.039   0.05    0.048   \n",
       "volatile_acidity        0.520    0.140    0.470    0.620   0.13    0.100   \n",
       "total_sulfur_dioxide  245.000  141.000  172.000  152.000  78.00  103.000   \n",
       "quality                 6.000    6.000    5.000    6.000   6.00    6.000   \n",
       "\n",
       "                          447      474      502      514      529     566  \\\n",
       "alcohol                 9.100   10.800   10.800    9.000   10.000   9.200   \n",
       "chlorides               0.066    0.030    0.027    0.050    0.047   0.044   \n",
       "volatile_acidity        0.510    0.475    0.140    0.105    0.140   0.470   \n",
       "total_sulfur_dioxide  165.000  131.000  140.000  146.000  173.000  98.000   \n",
       "quality                 5.000    5.000    6.000    6.000    6.000   5.000   \n",
       "\n",
       "                          606      607  \n",
       "alcohol                 9.800    9.800  \n",
       "chlorides               0.051    0.047  \n",
       "volatile_acidity        0.140    0.130  \n",
       "total_sulfur_dioxide  136.000  134.000  \n",
       "quality                 7.000    7.000  "
      ]
     },
     "execution_count": 45,
     "metadata": {},
     "output_type": "execute_result"
    }
   ],
   "source": [
    "df_filtered.head(50).T"
   ]
  },
  {
   "cell_type": "code",
   "execution_count": 46,
   "metadata": {},
   "outputs": [
    {
     "data": {
      "text/plain": [
       "5.727564102564102"
      ]
     },
     "execution_count": 46,
     "metadata": {},
     "output_type": "execute_result"
    }
   ],
   "source": [
    "df_filtered['quality'].mean()"
   ]
  },
  {
   "cell_type": "code",
   "execution_count": 47,
   "metadata": {},
   "outputs": [
    {
     "data": {
      "text/plain": [
       "5.877132196162047"
      ]
     },
     "execution_count": 47,
     "metadata": {},
     "output_type": "execute_result"
    }
   ],
   "source": [
    "df_white_ml['quality'].mean()"
   ]
  },
  {
   "cell_type": "code",
   "execution_count": 48,
   "metadata": {},
   "outputs": [
    {
     "data": {
      "text/plain": [
       "quality\n",
       "6    1707\n",
       "5    1076\n",
       "7     678\n",
       "4     140\n",
       "8     128\n",
       "3      18\n",
       "9       5\n",
       "Name: count, dtype: int64"
      ]
     },
     "execution_count": 48,
     "metadata": {},
     "output_type": "execute_result"
    }
   ],
   "source": [
    "df_white_ml['quality'].value_counts()"
   ]
  },
  {
   "cell_type": "code",
   "execution_count": 49,
   "metadata": {},
   "outputs": [
    {
     "data": {
      "text/plain": [
       "quality\n",
       "6    120\n",
       "5     84\n",
       "7     57\n",
       "4     35\n",
       "8     12\n",
       "3      4\n",
       "Name: count, dtype: int64"
      ]
     },
     "execution_count": 49,
     "metadata": {},
     "output_type": "execute_result"
    }
   ],
   "source": [
    "df_filtered['quality'].value_counts()"
   ]
  },
  {
   "cell_type": "markdown",
   "metadata": {},
   "source": [
    "* 312 of 3752 samples have volatile acidity values are not between 5th and the 95th percentile. \n",
    "* The average quality of these samples is 5.72 which is close to current average 5.87.\n",
    "* I will remove the rows that fall outside these percentiles to create a more refined and balanced dataset for the ML model. "
   ]
  },
  {
   "cell_type": "code",
   "execution_count": 50,
   "metadata": {},
   "outputs": [
    {
     "name": "stdout",
     "output_type": "stream",
     "text": [
      "<class 'pandas.core.frame.DataFrame'>\n",
      "RangeIndex: 3440 entries, 0 to 3439\n",
      "Data columns (total 5 columns):\n",
      " #   Column                Non-Null Count  Dtype  \n",
      "---  ------                --------------  -----  \n",
      " 0   alcohol               3440 non-null   float64\n",
      " 1   chlorides             3440 non-null   float64\n",
      " 2   volatile_acidity      3440 non-null   float64\n",
      " 3   total_sulfur_dioxide  3440 non-null   float64\n",
      " 4   quality               3440 non-null   int64  \n",
      "dtypes: float64(4), int64(1)\n",
      "memory usage: 134.5 KB\n"
     ]
    }
   ],
   "source": [
    "df_white_ml = df_white_ml[(df_white_ml['volatile_acidity'] <= 0.46) & (df_white_ml['volatile_acidity'] >= 0.15)].reset_index(drop=True)\n",
    "df_white_ml.info()"
   ]
  },
  {
   "cell_type": "code",
   "execution_count": 51,
   "metadata": {},
   "outputs": [
    {
     "data": {
      "text/plain": [
       "count    3440.000000\n",
       "mean        0.269286\n",
       "std         0.071567\n",
       "min         0.150000\n",
       "25%         0.210000\n",
       "50%         0.260000\n",
       "75%         0.320000\n",
       "max         0.460000\n",
       "Name: volatile_acidity, dtype: float64"
      ]
     },
     "execution_count": 51,
     "metadata": {},
     "output_type": "execute_result"
    }
   ],
   "source": [
    "df_white_ml['volatile_acidity'].describe()"
   ]
  },
  {
   "cell_type": "code",
   "execution_count": 52,
   "metadata": {},
   "outputs": [
    {
     "data": {
      "text/plain": [
       "0.5126691426818939"
      ]
     },
     "execution_count": 52,
     "metadata": {},
     "output_type": "execute_result"
    }
   ],
   "source": [
    "df_white_ml['volatile_acidity'].skew()"
   ]
  },
  {
   "cell_type": "code",
   "execution_count": 53,
   "metadata": {},
   "outputs": [
    {
     "data": {
      "text/plain": [
       "-0.28823615133752956"
      ]
     },
     "execution_count": 53,
     "metadata": {},
     "output_type": "execute_result"
    }
   ],
   "source": [
    "df_white_ml['volatile_acidity'].kurtosis()"
   ]
  },
  {
   "cell_type": "markdown",
   "metadata": {},
   "source": [
    "* the volatile_acidity feature is now more normally distributed"
   ]
  },
  {
   "cell_type": "markdown",
   "metadata": {},
   "source": [
    "## total_sulfur_dioxide outliers"
   ]
  },
  {
   "cell_type": "code",
   "execution_count": 54,
   "metadata": {},
   "outputs": [
    {
     "data": {
      "text/plain": [
       "count    3440.000000\n",
       "mean      137.827616\n",
       "std        42.615286\n",
       "min        18.000000\n",
       "25%       107.000000\n",
       "50%       133.000000\n",
       "75%       167.000000\n",
       "max       440.000000\n",
       "Name: total_sulfur_dioxide, dtype: float64"
      ]
     },
     "execution_count": 54,
     "metadata": {},
     "output_type": "execute_result"
    }
   ],
   "source": [
    "df_white_ml['total_sulfur_dioxide'].describe()"
   ]
  },
  {
   "cell_type": "code",
   "execution_count": 55,
   "metadata": {},
   "outputs": [
    {
     "data": {
      "text/plain": [
       "212.0"
      ]
     },
     "execution_count": 55,
     "metadata": {},
     "output_type": "execute_result"
    }
   ],
   "source": [
    "df_white_ml['total_sulfur_dioxide'].quantile(0.95)"
   ]
  },
  {
   "cell_type": "code",
   "execution_count": 56,
   "metadata": {},
   "outputs": [
    {
     "data": {
      "text/plain": [
       "74.0"
      ]
     },
     "execution_count": 56,
     "metadata": {},
     "output_type": "execute_result"
    }
   ],
   "source": [
    "df_white_ml['total_sulfur_dioxide'].quantile(0.05)"
   ]
  },
  {
   "cell_type": "code",
   "execution_count": 57,
   "metadata": {},
   "outputs": [
    {
     "name": "stdout",
     "output_type": "stream",
     "text": [
      "<class 'pandas.core.frame.DataFrame'>\n",
      "Index: 163 entries, 87 to 3439\n",
      "Data columns (total 5 columns):\n",
      " #   Column                Non-Null Count  Dtype  \n",
      "---  ------                --------------  -----  \n",
      " 0   alcohol               163 non-null    float64\n",
      " 1   chlorides             163 non-null    float64\n",
      " 2   volatile_acidity      163 non-null    float64\n",
      " 3   total_sulfur_dioxide  163 non-null    float64\n",
      " 4   quality               163 non-null    int64  \n",
      "dtypes: float64(4), int64(1)\n",
      "memory usage: 7.6 KB\n"
     ]
    }
   ],
   "source": [
    "df_filtered = df_white_ml[(df_white_ml['chlorides'] > 0.069) | (df_white_ml['chlorides'] < 0.027)]\n",
    "df_filtered.info()"
   ]
  },
  {
   "cell_type": "code",
   "execution_count": 58,
   "metadata": {},
   "outputs": [
    {
     "name": "stdout",
     "output_type": "stream",
     "text": [
      "<class 'pandas.core.frame.DataFrame'>\n",
      "Index: 333 entries, 6 to 3429\n",
      "Data columns (total 5 columns):\n",
      " #   Column                Non-Null Count  Dtype  \n",
      "---  ------                --------------  -----  \n",
      " 0   alcohol               333 non-null    float64\n",
      " 1   chlorides             333 non-null    float64\n",
      " 2   volatile_acidity      333 non-null    float64\n",
      " 3   total_sulfur_dioxide  333 non-null    float64\n",
      " 4   quality               333 non-null    int64  \n",
      "dtypes: float64(4), int64(1)\n",
      "memory usage: 15.6 KB\n"
     ]
    }
   ],
   "source": [
    "df_filtered = df_white_ml[(df_white_ml['total_sulfur_dioxide'] > 212) | (df_white_ml['total_sulfur_dioxide'] < 74)]\n",
    "df_filtered.info()"
   ]
  },
  {
   "cell_type": "code",
   "execution_count": 59,
   "metadata": {},
   "outputs": [
    {
     "data": {
      "text/plain": [
       "quality\n",
       "6    151\n",
       "5    125\n",
       "7     26\n",
       "4     23\n",
       "3      5\n",
       "8      3\n",
       "Name: count, dtype: int64"
      ]
     },
     "execution_count": 59,
     "metadata": {},
     "output_type": "execute_result"
    }
   ],
   "source": [
    "df_filtered['quality'].value_counts()"
   ]
  },
  {
   "cell_type": "code",
   "execution_count": 60,
   "metadata": {},
   "outputs": [
    {
     "data": {
      "text/html": [
       "<div>\n",
       "<style scoped>\n",
       "    .dataframe tbody tr th:only-of-type {\n",
       "        vertical-align: middle;\n",
       "    }\n",
       "\n",
       "    .dataframe tbody tr th {\n",
       "        vertical-align: top;\n",
       "    }\n",
       "\n",
       "    .dataframe thead th {\n",
       "        text-align: right;\n",
       "    }\n",
       "</style>\n",
       "<table border=\"1\" class=\"dataframe\">\n",
       "  <thead>\n",
       "    <tr style=\"text-align: right;\">\n",
       "      <th></th>\n",
       "      <th>alcohol</th>\n",
       "      <th>chlorides</th>\n",
       "      <th>volatile_acidity</th>\n",
       "      <th>total_sulfur_dioxide</th>\n",
       "      <th>quality</th>\n",
       "    </tr>\n",
       "  </thead>\n",
       "  <tbody>\n",
       "    <tr>\n",
       "      <th>316</th>\n",
       "      <td>11.5</td>\n",
       "      <td>0.038</td>\n",
       "      <td>0.32</td>\n",
       "      <td>66.0</td>\n",
       "      <td>3</td>\n",
       "    </tr>\n",
       "    <tr>\n",
       "      <th>543</th>\n",
       "      <td>12.6</td>\n",
       "      <td>0.022</td>\n",
       "      <td>0.39</td>\n",
       "      <td>19.0</td>\n",
       "      <td>3</td>\n",
       "    </tr>\n",
       "    <tr>\n",
       "      <th>634</th>\n",
       "      <td>9.6</td>\n",
       "      <td>0.037</td>\n",
       "      <td>0.17</td>\n",
       "      <td>33.0</td>\n",
       "      <td>3</td>\n",
       "    </tr>\n",
       "    <tr>\n",
       "      <th>1223</th>\n",
       "      <td>9.4</td>\n",
       "      <td>0.041</td>\n",
       "      <td>0.25</td>\n",
       "      <td>216.0</td>\n",
       "      <td>3</td>\n",
       "    </tr>\n",
       "    <tr>\n",
       "      <th>3327</th>\n",
       "      <td>10.5</td>\n",
       "      <td>0.047</td>\n",
       "      <td>0.26</td>\n",
       "      <td>440.0</td>\n",
       "      <td>3</td>\n",
       "    </tr>\n",
       "  </tbody>\n",
       "</table>\n",
       "</div>"
      ],
      "text/plain": [
       "      alcohol  chlorides  volatile_acidity  total_sulfur_dioxide  quality\n",
       "316      11.5      0.038              0.32                  66.0        3\n",
       "543      12.6      0.022              0.39                  19.0        3\n",
       "634       9.6      0.037              0.17                  33.0        3\n",
       "1223      9.4      0.041              0.25                 216.0        3\n",
       "3327     10.5      0.047              0.26                 440.0        3"
      ]
     },
     "execution_count": 60,
     "metadata": {},
     "output_type": "execute_result"
    }
   ],
   "source": [
    "df_filtered[df_filtered['quality'] == 3]"
   ]
  },
  {
   "cell_type": "code",
   "execution_count": 61,
   "metadata": {},
   "outputs": [
    {
     "data": {
      "text/plain": [
       "quality\n",
       "6    1587\n",
       "5     992\n",
       "7     621\n",
       "8     116\n",
       "4     105\n",
       "3      14\n",
       "9       5\n",
       "Name: count, dtype: int64"
      ]
     },
     "execution_count": 61,
     "metadata": {},
     "output_type": "execute_result"
    }
   ],
   "source": [
    "df_white_ml['quality'].value_counts()"
   ]
  },
  {
   "cell_type": "code",
   "execution_count": 62,
   "metadata": {},
   "outputs": [
    {
     "data": {
      "text/html": [
       "<div>\n",
       "<style scoped>\n",
       "    .dataframe tbody tr th:only-of-type {\n",
       "        vertical-align: middle;\n",
       "    }\n",
       "\n",
       "    .dataframe tbody tr th {\n",
       "        vertical-align: top;\n",
       "    }\n",
       "\n",
       "    .dataframe thead th {\n",
       "        text-align: right;\n",
       "    }\n",
       "</style>\n",
       "<table border=\"1\" class=\"dataframe\">\n",
       "  <thead>\n",
       "    <tr style=\"text-align: right;\">\n",
       "      <th></th>\n",
       "      <th>alcohol</th>\n",
       "      <th>chlorides</th>\n",
       "      <th>volatile_acidity</th>\n",
       "      <th>total_sulfur_dioxide</th>\n",
       "      <th>quality</th>\n",
       "    </tr>\n",
       "  </thead>\n",
       "  <tbody>\n",
       "    <tr>\n",
       "      <th>180</th>\n",
       "      <td>11.7</td>\n",
       "      <td>0.029</td>\n",
       "      <td>0.240</td>\n",
       "      <td>109.0</td>\n",
       "      <td>3</td>\n",
       "    </tr>\n",
       "    <tr>\n",
       "      <th>316</th>\n",
       "      <td>11.5</td>\n",
       "      <td>0.038</td>\n",
       "      <td>0.320</td>\n",
       "      <td>66.0</td>\n",
       "      <td>3</td>\n",
       "    </tr>\n",
       "    <tr>\n",
       "      <th>543</th>\n",
       "      <td>12.6</td>\n",
       "      <td>0.022</td>\n",
       "      <td>0.390</td>\n",
       "      <td>19.0</td>\n",
       "      <td>3</td>\n",
       "    </tr>\n",
       "    <tr>\n",
       "      <th>634</th>\n",
       "      <td>9.6</td>\n",
       "      <td>0.037</td>\n",
       "      <td>0.170</td>\n",
       "      <td>33.0</td>\n",
       "      <td>3</td>\n",
       "    </tr>\n",
       "    <tr>\n",
       "      <th>893</th>\n",
       "      <td>12.4</td>\n",
       "      <td>0.033</td>\n",
       "      <td>0.330</td>\n",
       "      <td>96.0</td>\n",
       "      <td>3</td>\n",
       "    </tr>\n",
       "    <tr>\n",
       "      <th>1072</th>\n",
       "      <td>9.1</td>\n",
       "      <td>0.053</td>\n",
       "      <td>0.320</td>\n",
       "      <td>134.0</td>\n",
       "      <td>3</td>\n",
       "    </tr>\n",
       "    <tr>\n",
       "      <th>1223</th>\n",
       "      <td>9.4</td>\n",
       "      <td>0.041</td>\n",
       "      <td>0.250</td>\n",
       "      <td>216.0</td>\n",
       "      <td>3</td>\n",
       "    </tr>\n",
       "    <tr>\n",
       "      <th>1473</th>\n",
       "      <td>9.7</td>\n",
       "      <td>0.034</td>\n",
       "      <td>0.230</td>\n",
       "      <td>123.0</td>\n",
       "      <td>3</td>\n",
       "    </tr>\n",
       "    <tr>\n",
       "      <th>2184</th>\n",
       "      <td>10.1</td>\n",
       "      <td>0.041</td>\n",
       "      <td>0.200</td>\n",
       "      <td>201.0</td>\n",
       "      <td>3</td>\n",
       "    </tr>\n",
       "    <tr>\n",
       "      <th>2313</th>\n",
       "      <td>8.0</td>\n",
       "      <td>0.041</td>\n",
       "      <td>0.215</td>\n",
       "      <td>157.0</td>\n",
       "      <td>3</td>\n",
       "    </tr>\n",
       "    <tr>\n",
       "      <th>2342</th>\n",
       "      <td>11.0</td>\n",
       "      <td>0.037</td>\n",
       "      <td>0.240</td>\n",
       "      <td>208.0</td>\n",
       "      <td>3</td>\n",
       "    </tr>\n",
       "    <tr>\n",
       "      <th>2423</th>\n",
       "      <td>11.0</td>\n",
       "      <td>0.051</td>\n",
       "      <td>0.230</td>\n",
       "      <td>111.0</td>\n",
       "      <td>3</td>\n",
       "    </tr>\n",
       "    <tr>\n",
       "      <th>2682</th>\n",
       "      <td>10.5</td>\n",
       "      <td>0.060</td>\n",
       "      <td>0.260</td>\n",
       "      <td>162.0</td>\n",
       "      <td>3</td>\n",
       "    </tr>\n",
       "    <tr>\n",
       "      <th>3327</th>\n",
       "      <td>10.5</td>\n",
       "      <td>0.047</td>\n",
       "      <td>0.260</td>\n",
       "      <td>440.0</td>\n",
       "      <td>3</td>\n",
       "    </tr>\n",
       "  </tbody>\n",
       "</table>\n",
       "</div>"
      ],
      "text/plain": [
       "      alcohol  chlorides  volatile_acidity  total_sulfur_dioxide  quality\n",
       "180      11.7      0.029             0.240                 109.0        3\n",
       "316      11.5      0.038             0.320                  66.0        3\n",
       "543      12.6      0.022             0.390                  19.0        3\n",
       "634       9.6      0.037             0.170                  33.0        3\n",
       "893      12.4      0.033             0.330                  96.0        3\n",
       "1072      9.1      0.053             0.320                 134.0        3\n",
       "1223      9.4      0.041             0.250                 216.0        3\n",
       "1473      9.7      0.034             0.230                 123.0        3\n",
       "2184     10.1      0.041             0.200                 201.0        3\n",
       "2313      8.0      0.041             0.215                 157.0        3\n",
       "2342     11.0      0.037             0.240                 208.0        3\n",
       "2423     11.0      0.051             0.230                 111.0        3\n",
       "2682     10.5      0.060             0.260                 162.0        3\n",
       "3327     10.5      0.047             0.260                 440.0        3"
      ]
     },
     "execution_count": 62,
     "metadata": {},
     "output_type": "execute_result"
    }
   ],
   "source": [
    "df_white_ml[df_white_ml['quality'] == 3]"
   ]
  },
  {
   "cell_type": "code",
   "execution_count": 63,
   "metadata": {},
   "outputs": [
    {
     "data": {
      "text/html": [
       "<div>\n",
       "<style scoped>\n",
       "    .dataframe tbody tr th:only-of-type {\n",
       "        vertical-align: middle;\n",
       "    }\n",
       "\n",
       "    .dataframe tbody tr th {\n",
       "        vertical-align: top;\n",
       "    }\n",
       "\n",
       "    .dataframe thead th {\n",
       "        text-align: right;\n",
       "    }\n",
       "</style>\n",
       "<table border=\"1\" class=\"dataframe\">\n",
       "  <thead>\n",
       "    <tr style=\"text-align: right;\">\n",
       "      <th></th>\n",
       "      <th>alcohol</th>\n",
       "      <th>chlorides</th>\n",
       "      <th>volatile_acidity</th>\n",
       "      <th>total_sulfur_dioxide</th>\n",
       "      <th>quality</th>\n",
       "    </tr>\n",
       "  </thead>\n",
       "  <tbody>\n",
       "    <tr>\n",
       "      <th>32</th>\n",
       "      <td>9.80</td>\n",
       "      <td>0.063</td>\n",
       "      <td>0.450</td>\n",
       "      <td>206.0</td>\n",
       "      <td>4</td>\n",
       "    </tr>\n",
       "    <tr>\n",
       "      <th>72</th>\n",
       "      <td>10.10</td>\n",
       "      <td>0.038</td>\n",
       "      <td>0.360</td>\n",
       "      <td>83.0</td>\n",
       "      <td>4</td>\n",
       "    </tr>\n",
       "    <tr>\n",
       "      <th>129</th>\n",
       "      <td>12.60</td>\n",
       "      <td>0.044</td>\n",
       "      <td>0.320</td>\n",
       "      <td>65.0</td>\n",
       "      <td>4</td>\n",
       "    </tr>\n",
       "    <tr>\n",
       "      <th>140</th>\n",
       "      <td>8.90</td>\n",
       "      <td>0.047</td>\n",
       "      <td>0.280</td>\n",
       "      <td>210.0</td>\n",
       "      <td>4</td>\n",
       "    </tr>\n",
       "    <tr>\n",
       "      <th>148</th>\n",
       "      <td>10.20</td>\n",
       "      <td>0.053</td>\n",
       "      <td>0.280</td>\n",
       "      <td>114.0</td>\n",
       "      <td>4</td>\n",
       "    </tr>\n",
       "    <tr>\n",
       "      <th>...</th>\n",
       "      <td>...</td>\n",
       "      <td>...</td>\n",
       "      <td>...</td>\n",
       "      <td>...</td>\n",
       "      <td>...</td>\n",
       "    </tr>\n",
       "    <tr>\n",
       "      <th>3136</th>\n",
       "      <td>9.55</td>\n",
       "      <td>0.058</td>\n",
       "      <td>0.280</td>\n",
       "      <td>108.0</td>\n",
       "      <td>4</td>\n",
       "    </tr>\n",
       "    <tr>\n",
       "      <th>3153</th>\n",
       "      <td>11.50</td>\n",
       "      <td>0.034</td>\n",
       "      <td>0.260</td>\n",
       "      <td>129.0</td>\n",
       "      <td>4</td>\n",
       "    </tr>\n",
       "    <tr>\n",
       "      <th>3349</th>\n",
       "      <td>11.20</td>\n",
       "      <td>0.045</td>\n",
       "      <td>0.240</td>\n",
       "      <td>132.0</td>\n",
       "      <td>4</td>\n",
       "    </tr>\n",
       "    <tr>\n",
       "      <th>3366</th>\n",
       "      <td>12.10</td>\n",
       "      <td>0.033</td>\n",
       "      <td>0.350</td>\n",
       "      <td>65.0</td>\n",
       "      <td>4</td>\n",
       "    </tr>\n",
       "    <tr>\n",
       "      <th>3393</th>\n",
       "      <td>11.60</td>\n",
       "      <td>0.038</td>\n",
       "      <td>0.405</td>\n",
       "      <td>44.0</td>\n",
       "      <td>4</td>\n",
       "    </tr>\n",
       "  </tbody>\n",
       "</table>\n",
       "<p>105 rows × 5 columns</p>\n",
       "</div>"
      ],
      "text/plain": [
       "      alcohol  chlorides  volatile_acidity  total_sulfur_dioxide  quality\n",
       "32       9.80      0.063             0.450                 206.0        4\n",
       "72      10.10      0.038             0.360                  83.0        4\n",
       "129     12.60      0.044             0.320                  65.0        4\n",
       "140      8.90      0.047             0.280                 210.0        4\n",
       "148     10.20      0.053             0.280                 114.0        4\n",
       "...       ...        ...               ...                   ...      ...\n",
       "3136     9.55      0.058             0.280                 108.0        4\n",
       "3153    11.50      0.034             0.260                 129.0        4\n",
       "3349    11.20      0.045             0.240                 132.0        4\n",
       "3366    12.10      0.033             0.350                  65.0        4\n",
       "3393    11.60      0.038             0.405                  44.0        4\n",
       "\n",
       "[105 rows x 5 columns]"
      ]
     },
     "execution_count": 63,
     "metadata": {},
     "output_type": "execute_result"
    }
   ],
   "source": [
    "df_white_ml[df_white_ml['quality'] == 4]"
   ]
  },
  {
   "cell_type": "code",
   "execution_count": 64,
   "metadata": {},
   "outputs": [
    {
     "data": {
      "text/plain": [
       "5.5375375375375375"
      ]
     },
     "execution_count": 64,
     "metadata": {},
     "output_type": "execute_result"
    }
   ],
   "source": [
    "df_filtered['quality'].mean()"
   ]
  },
  {
   "cell_type": "markdown",
   "metadata": {},
   "source": [
    "* I hesitated to remove these outliers because 5 out of 14 entries had a quality value of 3, and approximately 25% of the entries had a quality value of 4.\n",
    "* However, the distribution of the quality values is quite inconsistent, so I will proceed by removing values outside the 5th and 95th percentiles."
   ]
  },
  {
   "cell_type": "code",
   "execution_count": 65,
   "metadata": {},
   "outputs": [
    {
     "name": "stdout",
     "output_type": "stream",
     "text": [
      "<class 'pandas.core.frame.DataFrame'>\n",
      "RangeIndex: 3107 entries, 0 to 3106\n",
      "Data columns (total 5 columns):\n",
      " #   Column                Non-Null Count  Dtype  \n",
      "---  ------                --------------  -----  \n",
      " 0   alcohol               3107 non-null   float64\n",
      " 1   chlorides             3107 non-null   float64\n",
      " 2   volatile_acidity      3107 non-null   float64\n",
      " 3   total_sulfur_dioxide  3107 non-null   float64\n",
      " 4   quality               3107 non-null   int64  \n",
      "dtypes: float64(4), int64(1)\n",
      "memory usage: 121.5 KB\n"
     ]
    }
   ],
   "source": [
    "df_white_ml = df_white_ml[(df_white_ml['total_sulfur_dioxide'] <= 212) & (df_white_ml['total_sulfur_dioxide'] >= 74)].reset_index(drop=True)\n",
    "df_white_ml.info()"
   ]
  },
  {
   "cell_type": "code",
   "execution_count": 66,
   "metadata": {},
   "outputs": [
    {
     "data": {
      "text/html": [
       "<div>\n",
       "<style scoped>\n",
       "    .dataframe tbody tr th:only-of-type {\n",
       "        vertical-align: middle;\n",
       "    }\n",
       "\n",
       "    .dataframe tbody tr th {\n",
       "        vertical-align: top;\n",
       "    }\n",
       "\n",
       "    .dataframe thead th {\n",
       "        text-align: right;\n",
       "    }\n",
       "</style>\n",
       "<table border=\"1\" class=\"dataframe\">\n",
       "  <thead>\n",
       "    <tr style=\"text-align: right;\">\n",
       "      <th></th>\n",
       "      <th>alcohol</th>\n",
       "      <th>chlorides</th>\n",
       "      <th>volatile_acidity</th>\n",
       "      <th>total_sulfur_dioxide</th>\n",
       "      <th>quality</th>\n",
       "    </tr>\n",
       "  </thead>\n",
       "  <tbody>\n",
       "    <tr>\n",
       "      <th>0</th>\n",
       "      <td>8.8</td>\n",
       "      <td>0.045</td>\n",
       "      <td>0.27</td>\n",
       "      <td>170.0</td>\n",
       "      <td>6</td>\n",
       "    </tr>\n",
       "    <tr>\n",
       "      <th>1</th>\n",
       "      <td>9.5</td>\n",
       "      <td>0.049</td>\n",
       "      <td>0.30</td>\n",
       "      <td>132.0</td>\n",
       "      <td>6</td>\n",
       "    </tr>\n",
       "    <tr>\n",
       "      <th>2</th>\n",
       "      <td>10.1</td>\n",
       "      <td>0.050</td>\n",
       "      <td>0.28</td>\n",
       "      <td>97.0</td>\n",
       "      <td>6</td>\n",
       "    </tr>\n",
       "    <tr>\n",
       "      <th>3</th>\n",
       "      <td>9.9</td>\n",
       "      <td>0.058</td>\n",
       "      <td>0.23</td>\n",
       "      <td>186.0</td>\n",
       "      <td>6</td>\n",
       "    </tr>\n",
       "    <tr>\n",
       "      <th>4</th>\n",
       "      <td>9.6</td>\n",
       "      <td>0.045</td>\n",
       "      <td>0.32</td>\n",
       "      <td>136.0</td>\n",
       "      <td>6</td>\n",
       "    </tr>\n",
       "  </tbody>\n",
       "</table>\n",
       "</div>"
      ],
      "text/plain": [
       "   alcohol  chlorides  volatile_acidity  total_sulfur_dioxide  quality\n",
       "0      8.8      0.045              0.27                 170.0        6\n",
       "1      9.5      0.049              0.30                 132.0        6\n",
       "2     10.1      0.050              0.28                  97.0        6\n",
       "3      9.9      0.058              0.23                 186.0        6\n",
       "4      9.6      0.045              0.32                 136.0        6"
      ]
     },
     "execution_count": 66,
     "metadata": {},
     "output_type": "execute_result"
    }
   ],
   "source": [
    "df_white_ml.head()"
   ]
  },
  {
   "cell_type": "code",
   "execution_count": 67,
   "metadata": {},
   "outputs": [
    {
     "data": {
      "text/html": [
       "<div>\n",
       "<style scoped>\n",
       "    .dataframe tbody tr th:only-of-type {\n",
       "        vertical-align: middle;\n",
       "    }\n",
       "\n",
       "    .dataframe tbody tr th {\n",
       "        vertical-align: top;\n",
       "    }\n",
       "\n",
       "    .dataframe thead th {\n",
       "        text-align: right;\n",
       "    }\n",
       "</style>\n",
       "<table border=\"1\" class=\"dataframe\">\n",
       "  <thead>\n",
       "    <tr style=\"text-align: right;\">\n",
       "      <th></th>\n",
       "      <th>count</th>\n",
       "      <th>mean</th>\n",
       "      <th>std</th>\n",
       "      <th>min</th>\n",
       "      <th>25%</th>\n",
       "      <th>50%</th>\n",
       "      <th>75%</th>\n",
       "      <th>max</th>\n",
       "    </tr>\n",
       "  </thead>\n",
       "  <tbody>\n",
       "    <tr>\n",
       "      <th>alcohol</th>\n",
       "      <td>3107.0</td>\n",
       "      <td>10.661725</td>\n",
       "      <td>1.197871</td>\n",
       "      <td>8.000</td>\n",
       "      <td>9.700</td>\n",
       "      <td>10.500</td>\n",
       "      <td>11.500</td>\n",
       "      <td>14.200</td>\n",
       "    </tr>\n",
       "    <tr>\n",
       "      <th>chlorides</th>\n",
       "      <td>3107.0</td>\n",
       "      <td>0.042132</td>\n",
       "      <td>0.009676</td>\n",
       "      <td>0.018</td>\n",
       "      <td>0.035</td>\n",
       "      <td>0.042</td>\n",
       "      <td>0.049</td>\n",
       "      <td>0.069</td>\n",
       "    </tr>\n",
       "    <tr>\n",
       "      <th>volatile_acidity</th>\n",
       "      <td>3107.0</td>\n",
       "      <td>0.268225</td>\n",
       "      <td>0.071239</td>\n",
       "      <td>0.150</td>\n",
       "      <td>0.210</td>\n",
       "      <td>0.260</td>\n",
       "      <td>0.310</td>\n",
       "      <td>0.460</td>\n",
       "    </tr>\n",
       "    <tr>\n",
       "      <th>total_sulfur_dioxide</th>\n",
       "      <td>3107.0</td>\n",
       "      <td>136.794979</td>\n",
       "      <td>34.163052</td>\n",
       "      <td>74.000</td>\n",
       "      <td>110.000</td>\n",
       "      <td>133.000</td>\n",
       "      <td>163.000</td>\n",
       "      <td>212.000</td>\n",
       "    </tr>\n",
       "    <tr>\n",
       "      <th>quality</th>\n",
       "      <td>3107.0</td>\n",
       "      <td>5.928548</td>\n",
       "      <td>0.870223</td>\n",
       "      <td>3.000</td>\n",
       "      <td>5.000</td>\n",
       "      <td>6.000</td>\n",
       "      <td>6.000</td>\n",
       "      <td>9.000</td>\n",
       "    </tr>\n",
       "  </tbody>\n",
       "</table>\n",
       "</div>"
      ],
      "text/plain": [
       "                       count        mean        std     min      25%      50%  \\\n",
       "alcohol               3107.0   10.661725   1.197871   8.000    9.700   10.500   \n",
       "chlorides             3107.0    0.042132   0.009676   0.018    0.035    0.042   \n",
       "volatile_acidity      3107.0    0.268225   0.071239   0.150    0.210    0.260   \n",
       "total_sulfur_dioxide  3107.0  136.794979  34.163052  74.000  110.000  133.000   \n",
       "quality               3107.0    5.928548   0.870223   3.000    5.000    6.000   \n",
       "\n",
       "                          75%      max  \n",
       "alcohol                11.500   14.200  \n",
       "chlorides               0.049    0.069  \n",
       "volatile_acidity        0.310    0.460  \n",
       "total_sulfur_dioxide  163.000  212.000  \n",
       "quality                 6.000    9.000  "
      ]
     },
     "execution_count": 67,
     "metadata": {},
     "output_type": "execute_result"
    }
   ],
   "source": [
    "df_white_ml.describe().T"
   ]
  },
  {
   "cell_type": "code",
   "execution_count": 68,
   "metadata": {},
   "outputs": [
    {
     "data": {
      "text/plain": [
       "0.2497089004877891"
      ]
     },
     "execution_count": 68,
     "metadata": {},
     "output_type": "execute_result"
    }
   ],
   "source": [
    "df_white_ml['total_sulfur_dioxide'].skew()"
   ]
  },
  {
   "cell_type": "code",
   "execution_count": 69,
   "metadata": {},
   "outputs": [
    {
     "data": {
      "text/plain": [
       "-0.8551844931716293"
      ]
     },
     "execution_count": 69,
     "metadata": {},
     "output_type": "execute_result"
    }
   ],
   "source": [
    "df_white_ml['total_sulfur_dioxide'].kurtosis()"
   ]
  },
  {
   "cell_type": "code",
   "execution_count": 70,
   "metadata": {},
   "outputs": [
    {
     "data": {
      "image/png": "[encoded data removed]",
      "text/plain": [
       "<Figure size 1500x400 with 5 Axes>"
      ]
     },
     "metadata": {},
     "output_type": "display_data"
    }
   ],
   "source": [
    "# Create boxplots for each feature\n",
    "\n",
    "plt.figure(figsize=(15, 4))\n",
    "\n",
    "for i, feature in enumerate(features, 1):\n",
    "    plt.subplot(1, 5, i)  # 1 row, 5 columns, plot by index\n",
    "    sns.boxplot(x=df_white_ml[feature], color='lightcoral')\n",
    "\n",
    "    \n",
    "plt.subplots_adjust(hspace=0.3, wspace=0.3)\n",
    "\n",
    "plt.show()"
   ]
  },
  {
   "cell_type": "code",
   "execution_count": 71,
   "metadata": {},
   "outputs": [
    {
     "data": {
      "image/png": "[encoded data removed]",
      "text/plain": [
       "<Figure size 1500x400 with 5 Axes>"
      ]
     },
     "metadata": {},
     "output_type": "display_data"
    }
   ],
   "source": [
    "plt.figure(figsize=(15, 4))\n",
    "\n",
    "# Create histograms for each feature\n",
    "for i, feature in enumerate(features, 1):\n",
    "    plt.subplot(1, 5, i)\n",
    "    sns.histplot(df_white_ml[feature], kde=True, bins=20, color='lightcoral', stat='density')\n",
    "    \n",
    "# Adjust space between plots\n",
    "plt.subplots_adjust(hspace=0.3, wspace=0.3)\n",
    "\n",
    "# Set white background for the figure and axes\n",
    "plt.gcf().patch.set_facecolor('white')  # Set the background of the figure\n",
    "for ax in plt.gcf().get_axes():\n",
    "    ax.set_facecolor('white')  # Set the background for each subplot\n",
    "\n",
    "plt.show()"
   ]
  },
  {
   "cell_type": "markdown",
   "metadata": {},
   "source": [
    "* A total of 854 out of 3,961 entries were removed, which is approximately 21.6% of all entries. This was done to create a more refined and balanced dataset for the ML model, reducing the influence of extreme outliers.\n",
    "* 21% of all entries being removed is much more than I expected, especially considering my intention was to retain as many samples as possible since they were evaluated by wine experts, anyway it is the final features and entries in the end. "
   ]
  },
  {
   "cell_type": "markdown",
   "metadata": {},
   "source": [
    "# 3: Scaling, Preprocessing, Train-Test Split<a id=\"3\"></a>"
   ]
  },
  {
   "cell_type": "markdown",
   "metadata": {},
   "source": [
    "* In this step, we will create a new feature called quality_label to categorize the quality rankings of wine (from 3 to 9) into three groups: low, medium, and high. The breakdown will be as follows:\n",
    "\n",
    "    Scores of 3, 4, and 5 will be labeled as 0 (low quality).\n",
    "    Scores of 6 and 7 will be labeled as 1 (medium quality).\n",
    "    Scores of 8 and 9 will be labeled as 2 (high quality).\n",
    "\n",
    "* This categorization will help improve the model's performance by simplifying the target variable."
   ]
  },
  {
   "cell_type": "code",
   "execution_count": 72,
   "metadata": {},
   "outputs": [],
   "source": [
    "# Create a 'quality_label' column to categorize wine quality\n",
    "\n",
    "df_white_ml['quality_label'] = df_white_ml['quality'].apply(lambda x: 0 if x in [3, 4, 5] else (1 if x in [6, 7] else 2))\n"
   ]
  },
  {
   "cell_type": "code",
   "execution_count": 73,
   "metadata": {},
   "outputs": [
    {
     "data": {
      "text/html": [
       "<div>\n",
       "<style scoped>\n",
       "    .dataframe tbody tr th:only-of-type {\n",
       "        vertical-align: middle;\n",
       "    }\n",
       "\n",
       "    .dataframe tbody tr th {\n",
       "        vertical-align: top;\n",
       "    }\n",
       "\n",
       "    .dataframe thead th {\n",
       "        text-align: right;\n",
       "    }\n",
       "</style>\n",
       "<table border=\"1\" class=\"dataframe\">\n",
       "  <thead>\n",
       "    <tr style=\"text-align: right;\">\n",
       "      <th></th>\n",
       "      <th>alcohol</th>\n",
       "      <th>chlorides</th>\n",
       "      <th>volatile_acidity</th>\n",
       "      <th>total_sulfur_dioxide</th>\n",
       "      <th>quality</th>\n",
       "      <th>quality_label</th>\n",
       "    </tr>\n",
       "  </thead>\n",
       "  <tbody>\n",
       "    <tr>\n",
       "      <th>0</th>\n",
       "      <td>8.8</td>\n",
       "      <td>0.045</td>\n",
       "      <td>0.27</td>\n",
       "      <td>170.0</td>\n",
       "      <td>6</td>\n",
       "      <td>1</td>\n",
       "    </tr>\n",
       "    <tr>\n",
       "      <th>1</th>\n",
       "      <td>9.5</td>\n",
       "      <td>0.049</td>\n",
       "      <td>0.30</td>\n",
       "      <td>132.0</td>\n",
       "      <td>6</td>\n",
       "      <td>1</td>\n",
       "    </tr>\n",
       "    <tr>\n",
       "      <th>2</th>\n",
       "      <td>10.1</td>\n",
       "      <td>0.050</td>\n",
       "      <td>0.28</td>\n",
       "      <td>97.0</td>\n",
       "      <td>6</td>\n",
       "      <td>1</td>\n",
       "    </tr>\n",
       "    <tr>\n",
       "      <th>3</th>\n",
       "      <td>9.9</td>\n",
       "      <td>0.058</td>\n",
       "      <td>0.23</td>\n",
       "      <td>186.0</td>\n",
       "      <td>6</td>\n",
       "      <td>1</td>\n",
       "    </tr>\n",
       "    <tr>\n",
       "      <th>4</th>\n",
       "      <td>9.6</td>\n",
       "      <td>0.045</td>\n",
       "      <td>0.32</td>\n",
       "      <td>136.0</td>\n",
       "      <td>6</td>\n",
       "      <td>1</td>\n",
       "    </tr>\n",
       "    <tr>\n",
       "      <th>...</th>\n",
       "      <td>...</td>\n",
       "      <td>...</td>\n",
       "      <td>...</td>\n",
       "      <td>...</td>\n",
       "      <td>...</td>\n",
       "      <td>...</td>\n",
       "    </tr>\n",
       "    <tr>\n",
       "      <th>3102</th>\n",
       "      <td>11.2</td>\n",
       "      <td>0.039</td>\n",
       "      <td>0.21</td>\n",
       "      <td>92.0</td>\n",
       "      <td>6</td>\n",
       "      <td>1</td>\n",
       "    </tr>\n",
       "    <tr>\n",
       "      <th>3103</th>\n",
       "      <td>9.6</td>\n",
       "      <td>0.047</td>\n",
       "      <td>0.32</td>\n",
       "      <td>168.0</td>\n",
       "      <td>5</td>\n",
       "      <td>0</td>\n",
       "    </tr>\n",
       "    <tr>\n",
       "      <th>3104</th>\n",
       "      <td>9.4</td>\n",
       "      <td>0.041</td>\n",
       "      <td>0.24</td>\n",
       "      <td>111.0</td>\n",
       "      <td>6</td>\n",
       "      <td>1</td>\n",
       "    </tr>\n",
       "    <tr>\n",
       "      <th>3105</th>\n",
       "      <td>12.8</td>\n",
       "      <td>0.022</td>\n",
       "      <td>0.29</td>\n",
       "      <td>110.0</td>\n",
       "      <td>7</td>\n",
       "      <td>1</td>\n",
       "    </tr>\n",
       "    <tr>\n",
       "      <th>3106</th>\n",
       "      <td>11.8</td>\n",
       "      <td>0.020</td>\n",
       "      <td>0.21</td>\n",
       "      <td>98.0</td>\n",
       "      <td>6</td>\n",
       "      <td>1</td>\n",
       "    </tr>\n",
       "  </tbody>\n",
       "</table>\n",
       "<p>3107 rows × 6 columns</p>\n",
       "</div>"
      ],
      "text/plain": [
       "      alcohol  chlorides  volatile_acidity  total_sulfur_dioxide  quality  \\\n",
       "0         8.8      0.045              0.27                 170.0        6   \n",
       "1         9.5      0.049              0.30                 132.0        6   \n",
       "2        10.1      0.050              0.28                  97.0        6   \n",
       "3         9.9      0.058              0.23                 186.0        6   \n",
       "4         9.6      0.045              0.32                 136.0        6   \n",
       "...       ...        ...               ...                   ...      ...   \n",
       "3102     11.2      0.039              0.21                  92.0        6   \n",
       "3103      9.6      0.047              0.32                 168.0        5   \n",
       "3104      9.4      0.041              0.24                 111.0        6   \n",
       "3105     12.8      0.022              0.29                 110.0        7   \n",
       "3106     11.8      0.020              0.21                  98.0        6   \n",
       "\n",
       "      quality_label  \n",
       "0                 1  \n",
       "1                 1  \n",
       "2                 1  \n",
       "3                 1  \n",
       "4                 1  \n",
       "...             ...  \n",
       "3102              1  \n",
       "3103              0  \n",
       "3104              1  \n",
       "3105              1  \n",
       "3106              1  \n",
       "\n",
       "[3107 rows x 6 columns]"
      ]
     },
     "execution_count": 73,
     "metadata": {},
     "output_type": "execute_result"
    }
   ],
   "source": [
    "df_white_ml"
   ]
  },
  {
   "cell_type": "code",
   "execution_count": 74,
   "metadata": {},
   "outputs": [
    {
     "data": {
      "text/plain": [
       "quality_label\n",
       "1    2031\n",
       "0     958\n",
       "2     118\n",
       "Name: count, dtype: int64"
      ]
     },
     "execution_count": 74,
     "metadata": {},
     "output_type": "execute_result"
    }
   ],
   "source": [
    "df_white_ml['quality_label'].value_counts()"
   ]
  },
  {
   "cell_type": "markdown",
   "metadata": {},
   "source": [
    "### Feature Scaling"
   ]
  },
  {
   "cell_type": "code",
   "execution_count": 75,
   "metadata": {},
   "outputs": [
    {
     "data": {
      "text/html": [
       "<div>\n",
       "<style scoped>\n",
       "    .dataframe tbody tr th:only-of-type {\n",
       "        vertical-align: middle;\n",
       "    }\n",
       "\n",
       "    .dataframe tbody tr th {\n",
       "        vertical-align: top;\n",
       "    }\n",
       "\n",
       "    .dataframe thead th {\n",
       "        text-align: right;\n",
       "    }\n",
       "</style>\n",
       "<table border=\"1\" class=\"dataframe\">\n",
       "  <thead>\n",
       "    <tr style=\"text-align: right;\">\n",
       "      <th></th>\n",
       "      <th>alcohol</th>\n",
       "      <th>chlorides</th>\n",
       "      <th>volatile_acidity</th>\n",
       "      <th>total_sulfur_dioxide</th>\n",
       "    </tr>\n",
       "  </thead>\n",
       "  <tbody>\n",
       "    <tr>\n",
       "      <th>0</th>\n",
       "      <td>-1.554445</td>\n",
       "      <td>0.296443</td>\n",
       "      <td>0.024920</td>\n",
       "      <td>0.972114</td>\n",
       "    </tr>\n",
       "    <tr>\n",
       "      <th>1</th>\n",
       "      <td>-0.969981</td>\n",
       "      <td>0.709886</td>\n",
       "      <td>0.446103</td>\n",
       "      <td>-0.140378</td>\n",
       "    </tr>\n",
       "    <tr>\n",
       "      <th>2</th>\n",
       "      <td>-0.469012</td>\n",
       "      <td>0.813246</td>\n",
       "      <td>0.165315</td>\n",
       "      <td>-1.165042</td>\n",
       "    </tr>\n",
       "    <tr>\n",
       "      <th>3</th>\n",
       "      <td>-0.636002</td>\n",
       "      <td>1.640132</td>\n",
       "      <td>-0.536657</td>\n",
       "      <td>1.440531</td>\n",
       "    </tr>\n",
       "    <tr>\n",
       "      <th>4</th>\n",
       "      <td>-0.886486</td>\n",
       "      <td>0.296443</td>\n",
       "      <td>0.726892</td>\n",
       "      <td>-0.023274</td>\n",
       "    </tr>\n",
       "    <tr>\n",
       "      <th>...</th>\n",
       "      <td>...</td>\n",
       "      <td>...</td>\n",
       "      <td>...</td>\n",
       "      <td>...</td>\n",
       "    </tr>\n",
       "    <tr>\n",
       "      <th>3102</th>\n",
       "      <td>0.449432</td>\n",
       "      <td>-0.323722</td>\n",
       "      <td>-0.817445</td>\n",
       "      <td>-1.311422</td>\n",
       "    </tr>\n",
       "    <tr>\n",
       "      <th>3103</th>\n",
       "      <td>-0.886486</td>\n",
       "      <td>0.503164</td>\n",
       "      <td>0.726892</td>\n",
       "      <td>0.913561</td>\n",
       "    </tr>\n",
       "    <tr>\n",
       "      <th>3104</th>\n",
       "      <td>-1.053476</td>\n",
       "      <td>-0.117000</td>\n",
       "      <td>-0.396262</td>\n",
       "      <td>-0.755176</td>\n",
       "    </tr>\n",
       "    <tr>\n",
       "      <th>3105</th>\n",
       "      <td>1.785350</td>\n",
       "      <td>-2.080854</td>\n",
       "      <td>0.305709</td>\n",
       "      <td>-0.784453</td>\n",
       "    </tr>\n",
       "    <tr>\n",
       "      <th>3106</th>\n",
       "      <td>0.950401</td>\n",
       "      <td>-2.287576</td>\n",
       "      <td>-0.817445</td>\n",
       "      <td>-1.135766</td>\n",
       "    </tr>\n",
       "  </tbody>\n",
       "</table>\n",
       "<p>3107 rows × 4 columns</p>\n",
       "</div>"
      ],
      "text/plain": [
       "       alcohol  chlorides  volatile_acidity  total_sulfur_dioxide\n",
       "0    -1.554445   0.296443          0.024920              0.972114\n",
       "1    -0.969981   0.709886          0.446103             -0.140378\n",
       "2    -0.469012   0.813246          0.165315             -1.165042\n",
       "3    -0.636002   1.640132         -0.536657              1.440531\n",
       "4    -0.886486   0.296443          0.726892             -0.023274\n",
       "...        ...        ...               ...                   ...\n",
       "3102  0.449432  -0.323722         -0.817445             -1.311422\n",
       "3103 -0.886486   0.503164          0.726892              0.913561\n",
       "3104 -1.053476  -0.117000         -0.396262             -0.755176\n",
       "3105  1.785350  -2.080854          0.305709             -0.784453\n",
       "3106  0.950401  -2.287576         -0.817445             -1.135766\n",
       "\n",
       "[3107 rows x 4 columns]"
      ]
     },
     "execution_count": 75,
     "metadata": {},
     "output_type": "execute_result"
    }
   ],
   "source": [
    "# Select the features (exclude 'quality_label' as it's the target)\n",
    "X = df_white_ml[['alcohol', 'chlorides', 'volatile_acidity', 'total_sulfur_dioxide']]\n",
    "\n",
    "# Create an instance of StandardScaler\n",
    "scaler = StandardScaler()\n",
    "\n",
    "# Fit and transform the selected features for scaling\n",
    "scaled_features = scaler.fit_transform(X)\n",
    "\n",
    "# Convert the scaled features back into a DataFrame for convenience (optional)\n",
    "scaled_df = pd.DataFrame(scaled_features, columns=['alcohol', 'chlorides', 'volatile_acidity', 'total_sulfur_dioxide'])\n",
    "\n",
    "scaled_df\n"
   ]
  }
 ],
 "metadata": {
  "kernelspec": {
   "display_name": "python38_env",
   "language": "python",
   "name": "python3"
  },
  "language_info": {
   "codemirror_mode": {
    "name": "ipython",
    "version": 3
   },
   "file_extension": ".py",
   "mimetype": "text/x-python",
   "name": "python",
   "nbconvert_exporter": "python",
   "pygments_lexer": "ipython3",
   "version": "3.8.20"
  }
 },
 "nbformat": 4,
 "nbformat_minor": 2
}
